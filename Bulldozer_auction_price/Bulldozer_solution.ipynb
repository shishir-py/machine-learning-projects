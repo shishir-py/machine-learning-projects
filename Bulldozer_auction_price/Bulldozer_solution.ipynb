{
 "cells": [
  {
   "cell_type": "markdown",
   "id": "8b3ccd25",
   "metadata": {},
   "source": [
    "\n",
    "## 1. INTRODUCTION\n",
    "\n",
    "Bulldozers are used in the construction sector for a variety of tasks including land clearing, dozing, handling scrap, and hauling other large construction equipment. In order to improve the quality of work, complete specific tasks with less human interference, and manage complex projects, a significant rate of adoption of technologically advanced equipment has been seen in the construction industry and this is expected to increase demand for dozers in the construction industry **[Reference](https://www.bulldozer.in/blog/bulldozing-market-future-scope-and-growth-factors/)**.\n",
    "\n",
    "In this notebook, we will try to predict the sale price of bulldozer based on its usage, equipment type, and configuration.\n",
    "\n",
    "<h4 style=\"background-color:#0b0504;color:white;border-radius: 8px; padding:12px\">1.1. PROBLEM DEFINITION/GOAL</h4>\n",
    "\n",
    "* Given that we are attempting to predict a number, the problem we are exploring is a regression problem.<br>\n",
    "* Our goal is to forecast the future sale price of a bulldozer based on its features as well as the prices of similar bulldozers that have previously been sold.\n",
    "\n",
    "<h4 style=\"background-color:#0b0504;color:white;border-radius: 8px; padding:12px\">1.2. DATA SOURCE</h4>\n",
    "\n",
    "The data was obtained from the **[Kaggle](https://www.kaggle.com/competitions/bluebook-for-bulldozers/data)** Bluebook for Bulldozers competition and it contains 3 main datasets:\n",
    "* **Train.csv** (the training set), which contains data through the end of 2011. It includes thes `SalePrice`, which is the target variable.\n",
    "* **Valid.csv** (the validation set), which contains data from January 1, 2012 - April 30, 2012. \n",
    "* **Test.csv** (the test set), which contains data from May 1, 2012 - November 2012. It does not contain the `SalePrice` attribute, since this is the what we'll try to predict.\n",
    "\n",
    "<h4 style=\"background-color:#0b0504;color:white;border-radius: 8px; padding:12px\">1.3. EVALUATION</h4>\n",
    "\n",
    "The evaluation benchmark for this project is the [`RMSLE`](https://www.kaggle.com/competitions/bluebook-for-bulldozers/overview/evaluation) (root mean squared log error) between the actual and predicted auction prices. Our goal is to get the RMSLE value as low as possible.\n",
    "\n",
    "<h4 style=\"background-color:#0b0504;color:white;border-radius: 8px; padding:12px\">1.4. FEATURES</h4>\n",
    "\n",
    "First Ten Features:\n",
    "* **SalesID:** Unique identifier of a particular sale of a machine at auction\n",
    "* **MachineID:** Identifier for a particular machine;  machines may have multiple sales\n",
    "* **ModelID:** Identifier for a unique machine model (i.e. fiModelDesc)\n",
    "* **Datasource:** Source of the sale record;  some sources are more diligent about reporting attributes of the machine than others.  Note that a particular datasource may report on multiple auctioneerIDs.\n",
    "* **auctioneerID:** Identifier of a particular auctioneer, i.e. company that sold the machine at auction.  Not the same as datasource.\n",
    "* **YearMade:** Year of manufacturer of the Machine\n",
    "* **MachineHoursCurrentMeter:** Current usage of the machine in hours at time of sale (saledate);  null or 0 means no hours have been reported for that sale\n",
    "* **UsageBand:** Value (low, medium, high) calculated comparing this particular Machine-Sale hours to average usage for the fiBaseModel;  e.g. 'Low' means this machine has less hours given it's lifespan relative to average of fiBaseModel.\n",
    "* **Saledate:** Time of sale\n",
    "* **Saleprice:** Cost of sale in USD\n",
    "\n",
    "View complete Data Dictionary **[HERE](https://docs.google.com/spreadsheets/d/1vslmSkFUnyNdC177hA1MfIMk5gd_hZbEM1-OBlpubNY/edit?usp=sharing)**.\n",
    "\n"
   ]
  },
  {
   "cell_type": "markdown",
   "id": "5856a14f",
   "metadata": {},
   "source": [
    "## 1. Importing library and Loading Data\n",
    "\n",
    "<h4 style=\"background-color:#87CEEB;color:white;border-radius: 8px; padding:12px\">1.1. LOADING THE TOOLS & DATA</h4>"
   ]
  },
  {
   "cell_type": "code",
   "execution_count": 1,
   "id": "f117a7e1",
   "metadata": {},
   "outputs": [],
   "source": [
    "import pandas as pd\n",
    "train_path=\"Train.csv\"\n",
    "test_path=\"Test.csv\"\n",
    "valid_path=\"Valid.csv\"\n",
    "df_path=\"TrainAndValid.csv\"\n",
    "validsoln_path=\"ValidSolution.csv\"\n",
    "train_data=pd.read_csv(train_path, low_memory=False, parse_dates=['saledate'])\n",
    "test_data=pd.read_csv(test_path,parse_dates=['saledate'])\n",
    "valid_data=pd.read_csv(valid_path,parse_dates=['saledate'])\n",
    "df_data=pd.read_csv(df_path,low_memory=False,parse_dates=['saledate'])\n",
    "soln_data=pd.read_csv(validsoln_path)\n",
    "#ignoring warnings\n",
    "import warnings\n",
    "warnings.filterwarnings('ignore')"
   ]
  },
  {
   "cell_type": "markdown",
   "id": "24467005",
   "metadata": {},
   "source": [
    "<h4 style=\"background-color:#87CEEB;color:white;border-radius: 8px; padding:12px\">1.2 DATA ANALYSIS</h4>"
   ]
  },
  {
   "cell_type": "code",
   "execution_count": 2,
   "id": "608cd3a2",
   "metadata": {},
   "outputs": [
    {
     "data": {
      "text/plain": [
       "((401125, 53), (12457, 52), (412698, 53))"
      ]
     },
     "execution_count": 2,
     "metadata": {},
     "output_type": "execute_result"
    }
   ],
   "source": [
    "train_data.shape,test_data.shape,df_data.shape"
   ]
  },
  {
   "cell_type": "code",
   "execution_count": 3,
   "id": "57d26bfe",
   "metadata": {},
   "outputs": [
    {
     "name": "stdout",
     "output_type": "stream",
     "text": [
      "<class 'pandas.core.frame.DataFrame'>\n",
      "RangeIndex: 412698 entries, 0 to 412697\n",
      "Data columns (total 53 columns):\n",
      " #   Column                    Non-Null Count   Dtype         \n",
      "---  ------                    --------------   -----         \n",
      " 0   SalesID                   412698 non-null  int64         \n",
      " 1   SalePrice                 412698 non-null  float64       \n",
      " 2   MachineID                 412698 non-null  int64         \n",
      " 3   ModelID                   412698 non-null  int64         \n",
      " 4   datasource                412698 non-null  int64         \n",
      " 5   auctioneerID              392562 non-null  float64       \n",
      " 6   YearMade                  412698 non-null  int64         \n",
      " 7   MachineHoursCurrentMeter  147504 non-null  float64       \n",
      " 8   UsageBand                 73670 non-null   object        \n",
      " 9   saledate                  412698 non-null  datetime64[ns]\n",
      " 10  fiModelDesc               412698 non-null  object        \n",
      " 11  fiBaseModel               412698 non-null  object        \n",
      " 12  fiSecondaryDesc           271971 non-null  object        \n",
      " 13  fiModelSeries             58667 non-null   object        \n",
      " 14  fiModelDescriptor         74816 non-null   object        \n",
      " 15  ProductSize               196093 non-null  object        \n",
      " 16  fiProductClassDesc        412698 non-null  object        \n",
      " 17  state                     412698 non-null  object        \n",
      " 18  ProductGroup              412698 non-null  object        \n",
      " 19  ProductGroupDesc          412698 non-null  object        \n",
      " 20  Drive_System              107087 non-null  object        \n",
      " 21  Enclosure                 412364 non-null  object        \n",
      " 22  Forks                     197715 non-null  object        \n",
      " 23  Pad_Type                  81096 non-null   object        \n",
      " 24  Ride_Control              152728 non-null  object        \n",
      " 25  Stick                     81096 non-null   object        \n",
      " 26  Transmission              188007 non-null  object        \n",
      " 27  Turbocharged              81096 non-null   object        \n",
      " 28  Blade_Extension           25983 non-null   object        \n",
      " 29  Blade_Width               25983 non-null   object        \n",
      " 30  Enclosure_Type            25983 non-null   object        \n",
      " 31  Engine_Horsepower         25983 non-null   object        \n",
      " 32  Hydraulics                330133 non-null  object        \n",
      " 33  Pushblock                 25983 non-null   object        \n",
      " 34  Ripper                    106945 non-null  object        \n",
      " 35  Scarifier                 25994 non-null   object        \n",
      " 36  Tip_Control               25983 non-null   object        \n",
      " 37  Tire_Size                 97638 non-null   object        \n",
      " 38  Coupler                   220679 non-null  object        \n",
      " 39  Coupler_System            44974 non-null   object        \n",
      " 40  Grouser_Tracks            44875 non-null   object        \n",
      " 41  Hydraulics_Flow           44875 non-null   object        \n",
      " 42  Track_Type                102193 non-null  object        \n",
      " 43  Undercarriage_Pad_Width   102916 non-null  object        \n",
      " 44  Stick_Length              102261 non-null  object        \n",
      " 45  Thumb                     102332 non-null  object        \n",
      " 46  Pattern_Changer           102261 non-null  object        \n",
      " 47  Grouser_Type              102193 non-null  object        \n",
      " 48  Backhoe_Mounting          80712 non-null   object        \n",
      " 49  Blade_Type                81875 non-null   object        \n",
      " 50  Travel_Controls           81877 non-null   object        \n",
      " 51  Differential_Type         71564 non-null   object        \n",
      " 52  Steering_Controls         71522 non-null   object        \n",
      "dtypes: datetime64[ns](1), float64(3), int64(5), object(44)\n",
      "memory usage: 166.9+ MB\n"
     ]
    }
   ],
   "source": [
    "df_data.info()"
   ]
  },
  {
   "cell_type": "code",
   "execution_count": 4,
   "id": "e711bfc6",
   "metadata": {},
   "outputs": [],
   "source": [
    "df_data.sort_values(by=['saledate'], inplace=True, ascending=True)"
   ]
  },
  {
   "cell_type": "code",
   "execution_count": 9,
   "id": "23e0ef58",
   "metadata": {},
   "outputs": [],
   "source": [
    "train_df=df_data.copy()"
   ]
  },
  {
   "cell_type": "markdown",
   "id": "00f21e47",
   "metadata": {},
   "source": [
    "<h4 style=\"background-color:#87CEEB;color:white;border-radius: 8px; padding:12px\">1.3 FEATURES ENGINNERING</h4>"
   ]
  },
  {
   "cell_type": "code",
   "execution_count": 10,
   "id": "ccba0b60",
   "metadata": {},
   "outputs": [],
   "source": [
    "#feture enginnering\n",
    "train_df[\"saleyear\"] = train_df['saledate'].dt.year\n",
    "train_df[\"salemonth\"] = train_df['saledate'].dt.month\n",
    "train_df[\"saleday\"] = train_df['saledate'].dt.day\n",
    "new_df=train_df.drop('saledate',axis=1)"
   ]
  },
  {
   "cell_type": "code",
   "execution_count": 12,
   "id": "2439e48c",
   "metadata": {},
   "outputs": [],
   "source": [
    "obj_cols = new_df.select_dtypes(include='object').columns\n",
    "new_df[obj_cols] = new_df[obj_cols].astype('category')\n"
   ]
  },
  {
   "cell_type": "code",
   "execution_count": 13,
   "id": "d22fbfbc",
   "metadata": {},
   "outputs": [
    {
     "name": "stdout",
     "output_type": "stream",
     "text": [
      "<class 'pandas.core.frame.DataFrame'>\n",
      "Int64Index: 412698 entries, 205615 to 409203\n",
      "Data columns (total 55 columns):\n",
      " #   Column                    Non-Null Count   Dtype   \n",
      "---  ------                    --------------   -----   \n",
      " 0   SalesID                   412698 non-null  int64   \n",
      " 1   SalePrice                 412698 non-null  float64 \n",
      " 2   MachineID                 412698 non-null  int64   \n",
      " 3   ModelID                   412698 non-null  int64   \n",
      " 4   datasource                412698 non-null  int64   \n",
      " 5   auctioneerID              392562 non-null  float64 \n",
      " 6   YearMade                  412698 non-null  int64   \n",
      " 7   MachineHoursCurrentMeter  147504 non-null  float64 \n",
      " 8   UsageBand                 73670 non-null   category\n",
      " 9   fiModelDesc               412698 non-null  category\n",
      " 10  fiBaseModel               412698 non-null  category\n",
      " 11  fiSecondaryDesc           271971 non-null  category\n",
      " 12  fiModelSeries             58667 non-null   category\n",
      " 13  fiModelDescriptor         74816 non-null   category\n",
      " 14  ProductSize               196093 non-null  category\n",
      " 15  fiProductClassDesc        412698 non-null  category\n",
      " 16  state                     412698 non-null  category\n",
      " 17  ProductGroup              412698 non-null  category\n",
      " 18  ProductGroupDesc          412698 non-null  category\n",
      " 19  Drive_System              107087 non-null  category\n",
      " 20  Enclosure                 412364 non-null  category\n",
      " 21  Forks                     197715 non-null  category\n",
      " 22  Pad_Type                  81096 non-null   category\n",
      " 23  Ride_Control              152728 non-null  category\n",
      " 24  Stick                     81096 non-null   category\n",
      " 25  Transmission              188007 non-null  category\n",
      " 26  Turbocharged              81096 non-null   category\n",
      " 27  Blade_Extension           25983 non-null   category\n",
      " 28  Blade_Width               25983 non-null   category\n",
      " 29  Enclosure_Type            25983 non-null   category\n",
      " 30  Engine_Horsepower         25983 non-null   category\n",
      " 31  Hydraulics                330133 non-null  category\n",
      " 32  Pushblock                 25983 non-null   category\n",
      " 33  Ripper                    106945 non-null  category\n",
      " 34  Scarifier                 25994 non-null   category\n",
      " 35  Tip_Control               25983 non-null   category\n",
      " 36  Tire_Size                 97638 non-null   category\n",
      " 37  Coupler                   220679 non-null  category\n",
      " 38  Coupler_System            44974 non-null   category\n",
      " 39  Grouser_Tracks            44875 non-null   category\n",
      " 40  Hydraulics_Flow           44875 non-null   category\n",
      " 41  Track_Type                102193 non-null  category\n",
      " 42  Undercarriage_Pad_Width   102916 non-null  category\n",
      " 43  Stick_Length              102261 non-null  category\n",
      " 44  Thumb                     102332 non-null  category\n",
      " 45  Pattern_Changer           102261 non-null  category\n",
      " 46  Grouser_Type              102193 non-null  category\n",
      " 47  Backhoe_Mounting          80712 non-null   category\n",
      " 48  Blade_Type                81875 non-null   category\n",
      " 49  Travel_Controls           81877 non-null   category\n",
      " 50  Differential_Type         71564 non-null   category\n",
      " 51  Steering_Controls         71522 non-null   category\n",
      " 52  saleyear                  412698 non-null  int64   \n",
      " 53  salemonth                 412698 non-null  int64   \n",
      " 54  saleday                   412698 non-null  int64   \n",
      "dtypes: category(44), float64(3), int64(8)\n",
      "memory usage: 56.9 MB\n"
     ]
    }
   ],
   "source": [
    "new_df.info()"
   ]
  },
  {
   "cell_type": "markdown",
   "id": "163dbb06",
   "metadata": {},
   "source": [
    "<h4 style=\"background-color:#87CEEB;color:white;border-radius: 8px; padding:12px\">2.1.HANDLING MISSING VALUES</h4>"
   ]
  },
  {
   "cell_type": "code",
   "execution_count": 15,
   "id": "e5999675",
   "metadata": {},
   "outputs": [
    {
     "data": {
      "text/plain": [
       "['auctioneerID', 'MachineHoursCurrentMeter']"
      ]
     },
     "execution_count": 15,
     "metadata": {},
     "output_type": "execute_result"
    }
   ],
   "source": [
    "#checking the numeric datatype\n",
    "num_cols=new_df.select_dtypes(include=['int64','float64'],exclude=[ \"datetime64[ns]\"]).columns.tolist()\n",
    "# numeric_cols = df.select_dtypes(include=np.number, exclude=[\"id\", \"date\"]).columns.tolist()\n",
    "missing_num_cols=new_df[num_cols].isna().any()\n",
    "missing_cols=missing_num_cols[missing_num_cols==True].index.tolist()\n",
    "missing_cols"
   ]
  },
  {
   "cell_type": "code",
   "execution_count": 16,
   "id": "097b0b62",
   "metadata": {},
   "outputs": [],
   "source": [
    "#auctioneerID & MachineHoursCurrentMeter has missing values so \n",
    "new_df[missing_cols]=new_df[missing_cols].fillna(df_data[missing_cols].median())"
   ]
  },
  {
   "cell_type": "code",
   "execution_count": 17,
   "id": "164be81d",
   "metadata": {},
   "outputs": [],
   "source": [
    "for label, content in new_df.items():\n",
    "    if not pd.api.types.is_numeric_dtype(content):\n",
    "        # Turn categories to numbers +1\n",
    "        new_df[label] = pd.Categorical(content).codes+1"
   ]
  },
  {
   "cell_type": "code",
   "execution_count": 18,
   "id": "f9394114",
   "metadata": {},
   "outputs": [
    {
     "name": "stdout",
     "output_type": "stream",
     "text": [
      "<class 'pandas.core.frame.DataFrame'>\n",
      "Int64Index: 412698 entries, 205615 to 409203\n",
      "Data columns (total 55 columns):\n",
      " #   Column                    Non-Null Count   Dtype  \n",
      "---  ------                    --------------   -----  \n",
      " 0   SalesID                   412698 non-null  int64  \n",
      " 1   SalePrice                 412698 non-null  float64\n",
      " 2   MachineID                 412698 non-null  int64  \n",
      " 3   ModelID                   412698 non-null  int64  \n",
      " 4   datasource                412698 non-null  int64  \n",
      " 5   auctioneerID              412698 non-null  float64\n",
      " 6   YearMade                  412698 non-null  int64  \n",
      " 7   MachineHoursCurrentMeter  412698 non-null  float64\n",
      " 8   UsageBand                 412698 non-null  int8   \n",
      " 9   fiModelDesc               412698 non-null  int16  \n",
      " 10  fiBaseModel               412698 non-null  int16  \n",
      " 11  fiSecondaryDesc           412698 non-null  int16  \n",
      " 12  fiModelSeries             412698 non-null  int8   \n",
      " 13  fiModelDescriptor         412698 non-null  int16  \n",
      " 14  ProductSize               412698 non-null  int8   \n",
      " 15  fiProductClassDesc        412698 non-null  int8   \n",
      " 16  state                     412698 non-null  int8   \n",
      " 17  ProductGroup              412698 non-null  int8   \n",
      " 18  ProductGroupDesc          412698 non-null  int8   \n",
      " 19  Drive_System              412698 non-null  int8   \n",
      " 20  Enclosure                 412698 non-null  int8   \n",
      " 21  Forks                     412698 non-null  int8   \n",
      " 22  Pad_Type                  412698 non-null  int8   \n",
      " 23  Ride_Control              412698 non-null  int8   \n",
      " 24  Stick                     412698 non-null  int8   \n",
      " 25  Transmission              412698 non-null  int8   \n",
      " 26  Turbocharged              412698 non-null  int8   \n",
      " 27  Blade_Extension           412698 non-null  int8   \n",
      " 28  Blade_Width               412698 non-null  int8   \n",
      " 29  Enclosure_Type            412698 non-null  int8   \n",
      " 30  Engine_Horsepower         412698 non-null  int8   \n",
      " 31  Hydraulics                412698 non-null  int8   \n",
      " 32  Pushblock                 412698 non-null  int8   \n",
      " 33  Ripper                    412698 non-null  int8   \n",
      " 34  Scarifier                 412698 non-null  int8   \n",
      " 35  Tip_Control               412698 non-null  int8   \n",
      " 36  Tire_Size                 412698 non-null  int8   \n",
      " 37  Coupler                   412698 non-null  int8   \n",
      " 38  Coupler_System            412698 non-null  int8   \n",
      " 39  Grouser_Tracks            412698 non-null  int8   \n",
      " 40  Hydraulics_Flow           412698 non-null  int8   \n",
      " 41  Track_Type                412698 non-null  int8   \n",
      " 42  Undercarriage_Pad_Width   412698 non-null  int8   \n",
      " 43  Stick_Length              412698 non-null  int8   \n",
      " 44  Thumb                     412698 non-null  int8   \n",
      " 45  Pattern_Changer           412698 non-null  int8   \n",
      " 46  Grouser_Type              412698 non-null  int8   \n",
      " 47  Backhoe_Mounting          412698 non-null  int8   \n",
      " 48  Blade_Type                412698 non-null  int8   \n",
      " 49  Travel_Controls           412698 non-null  int8   \n",
      " 50  Differential_Type         412698 non-null  int8   \n",
      " 51  Steering_Controls         412698 non-null  int8   \n",
      " 52  saleyear                  412698 non-null  int64  \n",
      " 53  salemonth                 412698 non-null  int64  \n",
      " 54  saleday                   412698 non-null  int64  \n",
      "dtypes: float64(3), int16(4), int64(8), int8(40)\n",
      "memory usage: 56.7 MB\n"
     ]
    }
   ],
   "source": [
    "new_df.info()"
   ]
  },
  {
   "cell_type": "markdown",
   "id": "c3886fbf",
   "metadata": {},
   "source": [
    "***"
   ]
  },
  {
   "cell_type": "markdown",
   "id": "3a5e5982",
   "metadata": {},
   "source": [
    "### Data Visualization and Outliers Detection\n",
    "\n",
    "<h4 style=\"background-color:#87CEEB;color:white;border-radius: 8px; padding:12px\">3.1. Outliers Detection Using Boxplot</h4>"
   ]
  },
  {
   "cell_type": "code",
   "execution_count": null,
   "id": "99755e7f",
   "metadata": {},
   "outputs": [],
   "source": [
    "# import matplotlib.pyplot as plt\n",
    "# import seaborn as sns\n",
    "\n",
    "# def plot_box(data):\n",
    "    \n",
    "#     plt.figure(figsize=(30,80))\n",
    "#     variables = data.columns\n",
    "\n",
    "#     rows = 25\n",
    "#     cols = 4\n",
    "    \n",
    "#     for i, variable in enumerate(variables):\n",
    "#         plt.subplot(rows, cols, i+1)\n",
    "#         sns.boxplot(x=data[variable])\n",
    "#         plt.xticks(rotation=90, fontsize=10)\n",
    "#         plt.xlabel(variable, fontsize=12)\n",
    "\n",
    "#     # Display the plot\n",
    "#     plt.subplots_adjust(wspace=0.3, hspace=0.9)\n",
    "\n",
    "#     plt.show()\n"
   ]
  },
  {
   "cell_type": "code",
   "execution_count": null,
   "id": "592a6bb7",
   "metadata": {},
   "outputs": [],
   "source": [
    "# plot_box(new_df)"
   ]
  },
  {
   "cell_type": "markdown",
   "id": "a4bc5ea5",
   "metadata": {},
   "source": [
    "***"
   ]
  },
  {
   "cell_type": "markdown",
   "id": "b41ef963",
   "metadata": {},
   "source": [
    "<h4 style=\"background-color:#87CEEB;color:white;border-radius: 8px; padding:12px\">3.2. Outliers Removing</h4>"
   ]
  },
  {
   "cell_type": "code",
   "execution_count": 19,
   "id": "a096de3a",
   "metadata": {},
   "outputs": [],
   "source": [
    "import numpy as np\n",
    "def remove_outliers(df,cols):\n",
    "    data_clean=df.copy()\n",
    "    for col in cols:\n",
    "        if df[col].dtype != 'datetime64':\n",
    "            Q1=data_clean[col].quantile(0.25)\n",
    "            Q3=data_clean[col].quantile(0.70)\n",
    "            IQR=Q3-Q1\n",
    "\n",
    "            #calculatiog upper and lower bound\n",
    "            lower_bound=Q1-1.5*IQR\n",
    "            upper_bound=Q3+1.5*IQR\n",
    "\n",
    "            data_clean[col]=np.where(data_clean[col]>upper_bound,upper_bound,np.where (data_clean[col]<lower_bound,lower_bound,data_clean[col]))\n",
    "\n",
    "    return data_clean"
   ]
  },
  {
   "cell_type": "code",
   "execution_count": 20,
   "id": "878f271c",
   "metadata": {},
   "outputs": [],
   "source": [
    "df=remove_outliers(new_df,new_df.columns)"
   ]
  },
  {
   "cell_type": "code",
   "execution_count": 21,
   "id": "f1e61bdb",
   "metadata": {},
   "outputs": [
    {
     "data": {
      "text/plain": [
       "(412698, 55)"
      ]
     },
     "execution_count": 21,
     "metadata": {},
     "output_type": "execute_result"
    }
   ],
   "source": [
    "df.shape"
   ]
  },
  {
   "cell_type": "code",
   "execution_count": 22,
   "id": "d9017775",
   "metadata": {},
   "outputs": [
    {
     "data": {
      "text/html": [
       "<div>\n",
       "<style scoped>\n",
       "    .dataframe tbody tr th:only-of-type {\n",
       "        vertical-align: middle;\n",
       "    }\n",
       "\n",
       "    .dataframe tbody tr th {\n",
       "        vertical-align: top;\n",
       "    }\n",
       "\n",
       "    .dataframe thead th {\n",
       "        text-align: right;\n",
       "    }\n",
       "</style>\n",
       "<table border=\"1\" class=\"dataframe\">\n",
       "  <thead>\n",
       "    <tr style=\"text-align: right;\">\n",
       "      <th></th>\n",
       "      <th>SalesID</th>\n",
       "      <th>SalePrice</th>\n",
       "      <th>MachineID</th>\n",
       "      <th>ModelID</th>\n",
       "      <th>datasource</th>\n",
       "      <th>auctioneerID</th>\n",
       "      <th>YearMade</th>\n",
       "      <th>MachineHoursCurrentMeter</th>\n",
       "      <th>UsageBand</th>\n",
       "      <th>fiModelDesc</th>\n",
       "      <th>...</th>\n",
       "      <th>Pattern_Changer</th>\n",
       "      <th>Grouser_Type</th>\n",
       "      <th>Backhoe_Mounting</th>\n",
       "      <th>Blade_Type</th>\n",
       "      <th>Travel_Controls</th>\n",
       "      <th>Differential_Type</th>\n",
       "      <th>Steering_Controls</th>\n",
       "      <th>saleyear</th>\n",
       "      <th>salemonth</th>\n",
       "      <th>saleday</th>\n",
       "    </tr>\n",
       "  </thead>\n",
       "  <tbody>\n",
       "    <tr>\n",
       "      <th>205615</th>\n",
       "      <td>1646770.0</td>\n",
       "      <td>9500.0</td>\n",
       "      <td>1126363.0</td>\n",
       "      <td>8434.0</td>\n",
       "      <td>132.0</td>\n",
       "      <td>6.0</td>\n",
       "      <td>1974.0</td>\n",
       "      <td>0.0</td>\n",
       "      <td>0.0</td>\n",
       "      <td>4572.5</td>\n",
       "      <td>...</td>\n",
       "      <td>0.0</td>\n",
       "      <td>0.0</td>\n",
       "      <td>0.0</td>\n",
       "      <td>0.0</td>\n",
       "      <td>0.0</td>\n",
       "      <td>0.0</td>\n",
       "      <td>0.0</td>\n",
       "      <td>1989.0</td>\n",
       "      <td>1.0</td>\n",
       "      <td>17.0</td>\n",
       "    </tr>\n",
       "    <tr>\n",
       "      <th>274835</th>\n",
       "      <td>1821514.0</td>\n",
       "      <td>14000.0</td>\n",
       "      <td>1194089.0</td>\n",
       "      <td>10150.0</td>\n",
       "      <td>132.0</td>\n",
       "      <td>6.0</td>\n",
       "      <td>1980.0</td>\n",
       "      <td>0.0</td>\n",
       "      <td>0.0</td>\n",
       "      <td>1820.0</td>\n",
       "      <td>...</td>\n",
       "      <td>0.0</td>\n",
       "      <td>0.0</td>\n",
       "      <td>0.0</td>\n",
       "      <td>0.0</td>\n",
       "      <td>0.0</td>\n",
       "      <td>0.0</td>\n",
       "      <td>0.0</td>\n",
       "      <td>1989.0</td>\n",
       "      <td>1.0</td>\n",
       "      <td>31.0</td>\n",
       "    </tr>\n",
       "    <tr>\n",
       "      <th>141296</th>\n",
       "      <td>1505138.0</td>\n",
       "      <td>50000.0</td>\n",
       "      <td>1473654.0</td>\n",
       "      <td>4139.0</td>\n",
       "      <td>132.0</td>\n",
       "      <td>6.0</td>\n",
       "      <td>1978.0</td>\n",
       "      <td>0.0</td>\n",
       "      <td>0.0</td>\n",
       "      <td>2348.0</td>\n",
       "      <td>...</td>\n",
       "      <td>0.0</td>\n",
       "      <td>0.0</td>\n",
       "      <td>0.0</td>\n",
       "      <td>0.0</td>\n",
       "      <td>0.0</td>\n",
       "      <td>0.0</td>\n",
       "      <td>0.0</td>\n",
       "      <td>1989.0</td>\n",
       "      <td>1.0</td>\n",
       "      <td>31.0</td>\n",
       "    </tr>\n",
       "    <tr>\n",
       "      <th>212552</th>\n",
       "      <td>1671174.0</td>\n",
       "      <td>16000.0</td>\n",
       "      <td>1327630.0</td>\n",
       "      <td>8591.0</td>\n",
       "      <td>132.0</td>\n",
       "      <td>6.0</td>\n",
       "      <td>1980.0</td>\n",
       "      <td>0.0</td>\n",
       "      <td>0.0</td>\n",
       "      <td>1819.0</td>\n",
       "      <td>...</td>\n",
       "      <td>0.0</td>\n",
       "      <td>0.0</td>\n",
       "      <td>0.0</td>\n",
       "      <td>0.0</td>\n",
       "      <td>0.0</td>\n",
       "      <td>0.0</td>\n",
       "      <td>0.0</td>\n",
       "      <td>1989.0</td>\n",
       "      <td>1.0</td>\n",
       "      <td>31.0</td>\n",
       "    </tr>\n",
       "    <tr>\n",
       "      <th>62755</th>\n",
       "      <td>1329056.0</td>\n",
       "      <td>22000.0</td>\n",
       "      <td>1336053.0</td>\n",
       "      <td>4089.0</td>\n",
       "      <td>132.0</td>\n",
       "      <td>6.0</td>\n",
       "      <td>1984.0</td>\n",
       "      <td>0.0</td>\n",
       "      <td>0.0</td>\n",
       "      <td>2119.0</td>\n",
       "      <td>...</td>\n",
       "      <td>0.0</td>\n",
       "      <td>0.0</td>\n",
       "      <td>0.0</td>\n",
       "      <td>0.0</td>\n",
       "      <td>0.0</td>\n",
       "      <td>0.0</td>\n",
       "      <td>0.0</td>\n",
       "      <td>1989.0</td>\n",
       "      <td>1.0</td>\n",
       "      <td>31.0</td>\n",
       "    </tr>\n",
       "  </tbody>\n",
       "</table>\n",
       "<p>5 rows × 55 columns</p>\n",
       "</div>"
      ],
      "text/plain": [
       "          SalesID  SalePrice  MachineID  ModelID  datasource  auctioneerID  \\\n",
       "205615  1646770.0     9500.0  1126363.0   8434.0       132.0           6.0   \n",
       "274835  1821514.0    14000.0  1194089.0  10150.0       132.0           6.0   \n",
       "141296  1505138.0    50000.0  1473654.0   4139.0       132.0           6.0   \n",
       "212552  1671174.0    16000.0  1327630.0   8591.0       132.0           6.0   \n",
       "62755   1329056.0    22000.0  1336053.0   4089.0       132.0           6.0   \n",
       "\n",
       "        YearMade  MachineHoursCurrentMeter  UsageBand  fiModelDesc  ...  \\\n",
       "205615    1974.0                       0.0        0.0       4572.5  ...   \n",
       "274835    1980.0                       0.0        0.0       1820.0  ...   \n",
       "141296    1978.0                       0.0        0.0       2348.0  ...   \n",
       "212552    1980.0                       0.0        0.0       1819.0  ...   \n",
       "62755     1984.0                       0.0        0.0       2119.0  ...   \n",
       "\n",
       "        Pattern_Changer  Grouser_Type  Backhoe_Mounting  Blade_Type  \\\n",
       "205615              0.0           0.0               0.0         0.0   \n",
       "274835              0.0           0.0               0.0         0.0   \n",
       "141296              0.0           0.0               0.0         0.0   \n",
       "212552              0.0           0.0               0.0         0.0   \n",
       "62755               0.0           0.0               0.0         0.0   \n",
       "\n",
       "        Travel_Controls  Differential_Type  Steering_Controls  saleyear  \\\n",
       "205615              0.0                0.0                0.0    1989.0   \n",
       "274835              0.0                0.0                0.0    1989.0   \n",
       "141296              0.0                0.0                0.0    1989.0   \n",
       "212552              0.0                0.0                0.0    1989.0   \n",
       "62755               0.0                0.0                0.0    1989.0   \n",
       "\n",
       "        salemonth  saleday  \n",
       "205615        1.0     17.0  \n",
       "274835        1.0     31.0  \n",
       "141296        1.0     31.0  \n",
       "212552        1.0     31.0  \n",
       "62755         1.0     31.0  \n",
       "\n",
       "[5 rows x 55 columns]"
      ]
     },
     "execution_count": 22,
     "metadata": {},
     "output_type": "execute_result"
    }
   ],
   "source": [
    "df.head()"
   ]
  },
  {
   "cell_type": "markdown",
   "id": "23539d37",
   "metadata": {},
   "source": [
    "***"
   ]
  },
  {
   "cell_type": "markdown",
   "id": "c7335c58",
   "metadata": {},
   "source": [
    "### Modeling:\n",
    "\n",
    "<h4 style=\"background-color:#87CEEB;color:white;border-radius: 8px; padding:12px\">4.1. Importing Libraries</h4>"
   ]
  },
  {
   "cell_type": "code",
   "execution_count": 23,
   "id": "947ce6d2",
   "metadata": {},
   "outputs": [],
   "source": [
    "from sklearn.model_selection import train_test_split\n",
    "from sklearn.metrics import mean_absolute_error,accuracy_score, mean_squared_log_error\n",
    "from sklearn.ensemble import RandomForestRegressor\n",
    "from sklearn.linear_model import LinearRegression"
   ]
  },
  {
   "cell_type": "code",
   "execution_count": 24,
   "id": "20db1cdb",
   "metadata": {},
   "outputs": [],
   "source": [
    "y=df['SalePrice']\n",
    "X=df.drop('SalePrice',axis=1)"
   ]
  },
  {
   "cell_type": "code",
   "execution_count": null,
   "id": "e719476b",
   "metadata": {},
   "outputs": [],
   "source": [
    "model=RandomForestRegressor(n_jobs=-1)\n",
    "model.fit(X,y)\n",
    "model.score(X,y)"
   ]
  },
  {
   "cell_type": "markdown",
   "id": "d87dafaa",
   "metadata": {},
   "source": [
    "<h4 style=\"background-color:#87CEEB;color:white;border-radius: 8px; padding:12px\"> Random Forest Yields the 98% Accuracy</h4>"
   ]
  },
  {
   "cell_type": "markdown",
   "id": "132351c3",
   "metadata": {},
   "source": [
    "***"
   ]
  },
  {
   "cell_type": "markdown",
   "id": "993d203e",
   "metadata": {},
   "source": [
    "<h4 style=\"background-color:#87CEEB;color:white;border-radius: 8px; padding:12px\">4.2. Spliting the data in train and valid set</h4>"
   ]
  },
  {
   "cell_type": "code",
   "execution_count": 25,
   "id": "7bdf30ce",
   "metadata": {},
   "outputs": [],
   "source": [
    "#validation set as described in the original problem from January 1, 2012 - April 30, 2012.\n",
    "df_data=df.copy()\n",
    "valid_set = df_data[df_data.saleyear==2012]\n",
    "\n",
    "#anything other than the data of theyear 2012 falls in the training set.\n",
    "\n",
    "train_set = df_data[df_data.saleyear!= 2012]\n"
   ]
  },
  {
   "cell_type": "code",
   "execution_count": 26,
   "id": "353ad901",
   "metadata": {},
   "outputs": [
    {
     "data": {
      "text/plain": [
       "((401125, 54), (401125,), (11573, 54), (11573,))"
      ]
     },
     "execution_count": 26,
     "metadata": {},
     "output_type": "execute_result"
    }
   ],
   "source": [
    "# Split data into X and y\n",
    "X_train , y_train = train_set.drop(\"SalePrice\",axis=1), train_set.SalePrice\n",
    "X_valid, y_valid = valid_set.drop(\"SalePrice\", axis=1), valid_set.SalePrice\n",
    "\n",
    "# Check the shape of our X and y variables\n",
    "X_train.shape, y_train.shape, X_valid.shape, y_valid.shape"
   ]
  },
  {
   "cell_type": "code",
   "execution_count": 28,
   "id": "57d4f725",
   "metadata": {},
   "outputs": [],
   "source": [
    "# creating rsmle function to return the root mean square log error\n",
    "\n",
    "from sklearn.metrics import mean_squared_log_error, mean_absolute_error\n",
    "\n",
    "def rmsle(y_test, y_preds):\n",
    "    return np.sqrt(mean_squared_log_error(y_test, y_preds))\n",
    "\n",
    "# Create function to evaluate our model\n",
    "def show_scores(model):\n",
    "    train_preds = model.predict(X_train)\n",
    "    val_preds = model.predict(X_valid)\n",
    "    scores = {\"Training MAE\": mean_absolute_error(y_train, train_preds),\n",
    "              \"Valid MAE\": mean_absolute_error(y_valid, val_preds),\n",
    "              \"Training RMSLE\": rmsle(y_train, train_preds),\n",
    "              \"Valid RMSLE\": rmsle(y_valid, val_preds),\n",
    "              \"Training R^2\": model.score(X_train, y_train),\n",
    "              \"Valid R^2\": model.score(X_valid, y_valid)}\n",
    "    return scores"
   ]
  },
  {
   "cell_type": "code",
   "execution_count": 27,
   "id": "63f70bf5",
   "metadata": {},
   "outputs": [
    {
     "ename": "NameError",
     "evalue": "name 'show_scores' is not defined",
     "output_type": "error",
     "traceback": [
      "\u001b[1;31m---------------------------------------------------------------------------\u001b[0m",
      "\u001b[1;31mNameError\u001b[0m                                 Traceback (most recent call last)",
      "\u001b[1;32m~\\AppData\\Local\\Temp\\ipykernel_10324\\2676057125.py\u001b[0m in \u001b[0;36m<module>\u001b[1;34m\u001b[0m\n\u001b[0;32m      1\u001b[0m \u001b[0mmodel\u001b[0m\u001b[1;33m=\u001b[0m\u001b[0mRandomForestRegressor\u001b[0m\u001b[1;33m(\u001b[0m\u001b[0mn_jobs\u001b[0m\u001b[1;33m=\u001b[0m\u001b[1;33m-\u001b[0m\u001b[1;36m1\u001b[0m\u001b[1;33m,\u001b[0m\u001b[0mmax_samples\u001b[0m\u001b[1;33m=\u001b[0m\u001b[1;36m30000\u001b[0m\u001b[1;33m)\u001b[0m\u001b[1;33m\u001b[0m\u001b[1;33m\u001b[0m\u001b[0m\n\u001b[0;32m      2\u001b[0m \u001b[0mmodel\u001b[0m\u001b[1;33m.\u001b[0m\u001b[0mfit\u001b[0m\u001b[1;33m(\u001b[0m\u001b[0mX_train\u001b[0m\u001b[1;33m,\u001b[0m\u001b[0my_train\u001b[0m\u001b[1;33m)\u001b[0m\u001b[1;33m\u001b[0m\u001b[1;33m\u001b[0m\u001b[0m\n\u001b[1;32m----> 3\u001b[1;33m \u001b[0mshow_scores\u001b[0m\u001b[1;33m(\u001b[0m\u001b[0mmodel\u001b[0m\u001b[1;33m)\u001b[0m\u001b[1;33m\u001b[0m\u001b[1;33m\u001b[0m\u001b[0m\n\u001b[0m\u001b[0;32m      4\u001b[0m \u001b[1;31m# model.score(X_train,y_train)\u001b[0m\u001b[1;33m\u001b[0m\u001b[1;33m\u001b[0m\u001b[0m\n",
      "\u001b[1;31mNameError\u001b[0m: name 'show_scores' is not defined"
     ]
    }
   ],
   "source": [
    "model=RandomForestRegressor(n_jobs=-1,max_samples=30000)\n",
    "model.fit(X_train,y_train)\n",
    "show_scores(model)\n",
    "# model.score(X_train,y_train)"
   ]
  },
  {
   "cell_type": "markdown",
   "id": "c54a65f8",
   "metadata": {},
   "source": [
    "***"
   ]
  },
  {
   "cell_type": "markdown",
   "id": "3668dfbc",
   "metadata": {},
   "source": [
    "<h4 style=\"background-color:#87CEEB;color:white;border-radius: 8px; padding:12px\">5.1. PARAMETER TUNING</h4>\n",
    "\n",
    "**I  have commented below code because tuning doesnt effect on our model performance \n",
    "and it takes time to run on my machine**"
   ]
  },
  {
   "cell_type": "code",
   "execution_count": null,
   "id": "0178fe4e",
   "metadata": {},
   "outputs": [],
   "source": [
    "# from sklearn.ensemble import RandomForestRegressor\n",
    "# from sklearn.model_selection import RandomizedSearchCV\n",
    "\n",
    "# grid_2 = {\"n_estimators\": [90],\n",
    "#           \"max_depth\": [10,15],\n",
    "#           \"min_samples_split\": [4,6,8],\n",
    "#           \"min_samples_leaf\": [15],\n",
    "#           \"max_features\": [\"sqrt\",\"auto\"],\n",
    "#           \"max_samples\": [10000]}\n",
    "\n",
    "# # create a RandomForestRegressor instance\n",
    "# rf = RandomForestRegressor(n_jobs=-1,random_state=42)\n",
    "\n",
    "# # create a RandomizedSearchCV instance\n",
    "# rs = RandomizedSearchCV(estimator=rf,\n",
    "#                         param_distributions=grid_2,\n",
    "#                         n_iter=10,\n",
    "#                         scoring='neg_mean_squared_error',\n",
    "#                         cv=5,\n",
    "#                         random_state=42)\n",
    "\n",
    "# # fit the RandomizedSearchCV instance to the data\n",
    "# rs.fit(X_train, y_train)\n",
    "\n",
    "# # print the best hyperparameters\n",
    "# print(rs.best_params_)\n"
   ]
  },
  {
   "cell_type": "code",
   "execution_count": null,
   "id": "d1674291",
   "metadata": {},
   "outputs": [],
   "source": [
    "# show_scores(rs)"
   ]
  },
  {
   "cell_type": "code",
   "execution_count": 29,
   "id": "27610751",
   "metadata": {},
   "outputs": [
    {
     "data": {
      "text/plain": [
       "0.8349120627910172"
      ]
     },
     "execution_count": 29,
     "metadata": {},
     "output_type": "execute_result"
    }
   ],
   "source": [
    "model2=RandomForestRegressor(n_estimators=90,min_samples_split=4,min_samples_leaf=15,max_samples=10000,max_features='auto',\n",
    "                             max_depth=15)\n",
    "model2.fit(X_train,y_train)\n",
    "model2.score(X_train,y_train)"
   ]
  },
  {
   "cell_type": "code",
   "execution_count": 30,
   "id": "93386cd6",
   "metadata": {},
   "outputs": [
    {
     "data": {
      "text/plain": [
       "{'Training MAE': 5355.255451819456,\n",
       " 'Valid MAE': 6270.948236348431,\n",
       " 'Training RMSLE': 0.2750148824829828,\n",
       " 'Valid RMSLE': 0.2946849250071983,\n",
       " 'Training R^2': 0.8349120627910172,\n",
       " 'Valid R^2': 0.8071113326277606}"
      ]
     },
     "execution_count": 30,
     "metadata": {},
     "output_type": "execute_result"
    }
   ],
   "source": [
    "show_scores(model2)"
   ]
  },
  {
   "cell_type": "markdown",
   "id": "51eb1fb4",
   "metadata": {},
   "source": [
    "***"
   ]
  },
  {
   "cell_type": "markdown",
   "id": "bf325517",
   "metadata": {},
   "source": [
    "### Prediction\n",
    "<h4 style=\"background-color:#87CEEB;color:white;border-radius: 8px; padding:12px\">6.1. prepairing the test data for prediction</h4>"
   ]
  },
  {
   "cell_type": "code",
   "execution_count": 31,
   "id": "652f4fe4",
   "metadata": {},
   "outputs": [],
   "source": [
    "def preprocess_data(df_new):\n",
    "    # Add datetime parameters for saledate\n",
    "    df_new[\"saleyear\"] = df_new.saledate.dt.year\n",
    "    df_new[\"salemonth\"] = df_new.saledate.dt.month\n",
    "    df_new[\"saleday\"] = df_new.saledate.dt.day\n",
    "\n",
    "    # Drop saledate\n",
    "    df_new.drop(\"saledate\", axis=1, inplace=True)\n",
    "    \n",
    "    # Fill numeric rows with the median\n",
    "    for label, content in df_new.items():\n",
    "        if pd.api.types.is_numeric_dtype(content):\n",
    "            if pd.isnull(content).sum():\n",
    "                \n",
    "                # fill missing values with median\n",
    "                df_new[label] = content.fillna(content.median())\n",
    "                \n",
    "        # Turn categorical variables into numbers\n",
    "        for label, content in df_new.items():\n",
    "            if not pd.api.types.is_numeric_dtype(content):\n",
    "                # Turn categories to numbers +1\n",
    "                df_new[label] = pd.Categorical(content).codes+1       \n",
    "    \n",
    "    return df_new"
   ]
  },
  {
   "cell_type": "code",
   "execution_count": 32,
   "id": "def2eda3",
   "metadata": {},
   "outputs": [],
   "source": [
    "test_df=preprocess_data(test_data)"
   ]
  },
  {
   "cell_type": "code",
   "execution_count": 33,
   "id": "f04d8c57",
   "metadata": {},
   "outputs": [
    {
     "data": {
      "text/plain": [
       "(12457, 54)"
      ]
     },
     "execution_count": 33,
     "metadata": {},
     "output_type": "execute_result"
    }
   ],
   "source": [
    "test_df.shape"
   ]
  },
  {
   "cell_type": "code",
   "execution_count": 34,
   "id": "6e555a99",
   "metadata": {},
   "outputs": [
    {
     "name": "stdout",
     "output_type": "stream",
     "text": [
      "Test Dataset has 0 missing values\n"
     ]
    }
   ],
   "source": [
    "print(\"Test Dataset has\",test_df.isnull().values.sum(), \"missing values\")"
   ]
  },
  {
   "cell_type": "code",
   "execution_count": 42,
   "id": "5c125cfa",
   "metadata": {},
   "outputs": [],
   "source": [
    "test_preds = model.predict(test_df)\n",
    "# Create DataFrame\n",
    "\n",
    "df_preds = pd.DataFrame()\n",
    "df_preds[\"SalesID\"] = test_df[\"SalesID\"]\n",
    "df_preds[\"SalePrice\"] = test_preds\n"
   ]
  },
  {
   "cell_type": "markdown",
   "id": "f1ae7b2e",
   "metadata": {},
   "source": [
    "<h4 style=\"background-color:#90EE90;color:black;border-radius: 8px; padding:12px\">2.1.Final solution:</h4>"
   ]
  },
  {
   "cell_type": "code",
   "execution_count": 43,
   "id": "3c7b24b9",
   "metadata": {},
   "outputs": [
    {
     "data": {
      "text/html": [
       "<div>\n",
       "<style scoped>\n",
       "    .dataframe tbody tr th:only-of-type {\n",
       "        vertical-align: middle;\n",
       "    }\n",
       "\n",
       "    .dataframe tbody tr th {\n",
       "        vertical-align: top;\n",
       "    }\n",
       "\n",
       "    .dataframe thead th {\n",
       "        text-align: right;\n",
       "    }\n",
       "</style>\n",
       "<table border=\"1\" class=\"dataframe\">\n",
       "  <thead>\n",
       "    <tr style=\"text-align: right;\">\n",
       "      <th></th>\n",
       "      <th>SalesID</th>\n",
       "      <th>SalePrice</th>\n",
       "    </tr>\n",
       "  </thead>\n",
       "  <tbody>\n",
       "    <tr>\n",
       "      <th>0</th>\n",
       "      <td>1227829</td>\n",
       "      <td>21183.00</td>\n",
       "    </tr>\n",
       "    <tr>\n",
       "      <th>1</th>\n",
       "      <td>1227844</td>\n",
       "      <td>16904.50</td>\n",
       "    </tr>\n",
       "    <tr>\n",
       "      <th>2</th>\n",
       "      <td>1227847</td>\n",
       "      <td>47855.00</td>\n",
       "    </tr>\n",
       "    <tr>\n",
       "      <th>3</th>\n",
       "      <td>1227848</td>\n",
       "      <td>63530.00</td>\n",
       "    </tr>\n",
       "    <tr>\n",
       "      <th>4</th>\n",
       "      <td>1227863</td>\n",
       "      <td>46062.50</td>\n",
       "    </tr>\n",
       "    <tr>\n",
       "      <th>...</th>\n",
       "      <td>...</td>\n",
       "      <td>...</td>\n",
       "    </tr>\n",
       "    <tr>\n",
       "      <th>12452</th>\n",
       "      <td>6643171</td>\n",
       "      <td>47380.00</td>\n",
       "    </tr>\n",
       "    <tr>\n",
       "      <th>12453</th>\n",
       "      <td>6643173</td>\n",
       "      <td>12335.00</td>\n",
       "    </tr>\n",
       "    <tr>\n",
       "      <th>12454</th>\n",
       "      <td>6643184</td>\n",
       "      <td>12967.50</td>\n",
       "    </tr>\n",
       "    <tr>\n",
       "      <th>12455</th>\n",
       "      <td>6643186</td>\n",
       "      <td>16425.00</td>\n",
       "    </tr>\n",
       "    <tr>\n",
       "      <th>12456</th>\n",
       "      <td>6643196</td>\n",
       "      <td>28660.83</td>\n",
       "    </tr>\n",
       "  </tbody>\n",
       "</table>\n",
       "<p>12457 rows × 2 columns</p>\n",
       "</div>"
      ],
      "text/plain": [
       "       SalesID  SalePrice\n",
       "0      1227829   21183.00\n",
       "1      1227844   16904.50\n",
       "2      1227847   47855.00\n",
       "3      1227848   63530.00\n",
       "4      1227863   46062.50\n",
       "...        ...        ...\n",
       "12452  6643171   47380.00\n",
       "12453  6643173   12335.00\n",
       "12454  6643184   12967.50\n",
       "12455  6643186   16425.00\n",
       "12456  6643196   28660.83\n",
       "\n",
       "[12457 rows x 2 columns]"
      ]
     },
     "execution_count": 43,
     "metadata": {},
     "output_type": "execute_result"
    }
   ],
   "source": [
    "df_preds"
   ]
  },
  {
   "cell_type": "code",
   "execution_count": 52,
   "id": "08f024c2",
   "metadata": {},
   "outputs": [],
   "source": [
    "df_preds.to_csv(\"test_predition.csv\")"
   ]
  },
  {
   "cell_type": "code",
   "execution_count": null,
   "id": "2064880d",
   "metadata": {},
   "outputs": [],
   "source": []
  }
 ],
 "metadata": {
  "kernelspec": {
   "display_name": "Python 3 (ipykernel)",
   "language": "python",
   "name": "python3"
  },
  "language_info": {
   "codemirror_mode": {
    "name": "ipython",
    "version": 3
   },
   "file_extension": ".py",
   "mimetype": "text/x-python",
   "name": "python",
   "nbconvert_exporter": "python",
   "pygments_lexer": "ipython3",
   "version": "3.9.13"
  }
 },
 "nbformat": 4,
 "nbformat_minor": 5
}
