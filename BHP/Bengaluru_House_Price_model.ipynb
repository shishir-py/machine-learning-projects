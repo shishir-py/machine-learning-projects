{
 "cells": [
  {
   "cell_type": "markdown",
   "id": "b1f7f105",
   "metadata": {},
   "source": [
    "###  **Importing the pandas and read csv file**"
   ]
  },
  {
   "cell_type": "code",
   "execution_count": 1,
   "id": "5981a62c",
   "metadata": {},
   "outputs": [
    {
     "data": {
      "text/html": [
       "<div>\n",
       "<style scoped>\n",
       "    .dataframe tbody tr th:only-of-type {\n",
       "        vertical-align: middle;\n",
       "    }\n",
       "\n",
       "    .dataframe tbody tr th {\n",
       "        vertical-align: top;\n",
       "    }\n",
       "\n",
       "    .dataframe thead th {\n",
       "        text-align: right;\n",
       "    }\n",
       "</style>\n",
       "<table border=\"1\" class=\"dataframe\">\n",
       "  <thead>\n",
       "    <tr style=\"text-align: right;\">\n",
       "      <th></th>\n",
       "      <th>area_type</th>\n",
       "      <th>availability</th>\n",
       "      <th>location</th>\n",
       "      <th>size</th>\n",
       "      <th>society</th>\n",
       "      <th>total_sqft</th>\n",
       "      <th>bath</th>\n",
       "      <th>balcony</th>\n",
       "      <th>price</th>\n",
       "    </tr>\n",
       "  </thead>\n",
       "  <tbody>\n",
       "    <tr>\n",
       "      <th>0</th>\n",
       "      <td>Super built-up  Area</td>\n",
       "      <td>19-Dec</td>\n",
       "      <td>Electronic City Phase II</td>\n",
       "      <td>2 BHK</td>\n",
       "      <td>Coomee</td>\n",
       "      <td>1056</td>\n",
       "      <td>2.0</td>\n",
       "      <td>1.0</td>\n",
       "      <td>39.07</td>\n",
       "    </tr>\n",
       "    <tr>\n",
       "      <th>1</th>\n",
       "      <td>Plot  Area</td>\n",
       "      <td>Ready To Move</td>\n",
       "      <td>Chikka Tirupathi</td>\n",
       "      <td>4 Bedroom</td>\n",
       "      <td>Theanmp</td>\n",
       "      <td>2600</td>\n",
       "      <td>5.0</td>\n",
       "      <td>3.0</td>\n",
       "      <td>120.00</td>\n",
       "    </tr>\n",
       "    <tr>\n",
       "      <th>2</th>\n",
       "      <td>Built-up  Area</td>\n",
       "      <td>Ready To Move</td>\n",
       "      <td>Uttarahalli</td>\n",
       "      <td>3 BHK</td>\n",
       "      <td>NaN</td>\n",
       "      <td>1440</td>\n",
       "      <td>2.0</td>\n",
       "      <td>3.0</td>\n",
       "      <td>62.00</td>\n",
       "    </tr>\n",
       "    <tr>\n",
       "      <th>3</th>\n",
       "      <td>Super built-up  Area</td>\n",
       "      <td>Ready To Move</td>\n",
       "      <td>Lingadheeranahalli</td>\n",
       "      <td>3 BHK</td>\n",
       "      <td>Soiewre</td>\n",
       "      <td>1521</td>\n",
       "      <td>3.0</td>\n",
       "      <td>1.0</td>\n",
       "      <td>95.00</td>\n",
       "    </tr>\n",
       "    <tr>\n",
       "      <th>4</th>\n",
       "      <td>Super built-up  Area</td>\n",
       "      <td>Ready To Move</td>\n",
       "      <td>Kothanur</td>\n",
       "      <td>2 BHK</td>\n",
       "      <td>NaN</td>\n",
       "      <td>1200</td>\n",
       "      <td>2.0</td>\n",
       "      <td>1.0</td>\n",
       "      <td>51.00</td>\n",
       "    </tr>\n",
       "  </tbody>\n",
       "</table>\n",
       "</div>"
      ],
      "text/plain": [
       "              area_type   availability                  location       size  \\\n",
       "0  Super built-up  Area         19-Dec  Electronic City Phase II      2 BHK   \n",
       "1            Plot  Area  Ready To Move          Chikka Tirupathi  4 Bedroom   \n",
       "2        Built-up  Area  Ready To Move               Uttarahalli      3 BHK   \n",
       "3  Super built-up  Area  Ready To Move        Lingadheeranahalli      3 BHK   \n",
       "4  Super built-up  Area  Ready To Move                  Kothanur      2 BHK   \n",
       "\n",
       "   society total_sqft  bath  balcony   price  \n",
       "0  Coomee        1056   2.0      1.0   39.07  \n",
       "1  Theanmp       2600   5.0      3.0  120.00  \n",
       "2      NaN       1440   2.0      3.0   62.00  \n",
       "3  Soiewre       1521   3.0      1.0   95.00  \n",
       "4      NaN       1200   2.0      1.0   51.00  "
      ]
     },
     "execution_count": 1,
     "metadata": {},
     "output_type": "execute_result"
    }
   ],
   "source": [
    "import pandas as pd\n",
    "import numpy as np\n",
    "import warnings\n",
    "warnings.filterwarnings('ignore')\n",
    "\n",
    "#path of the csv file\n",
    "path=\"datasets/Bengaluru_House_Data.csv\"\n",
    "#reading the data using pandas\n",
    "data=pd.read_csv(path)\n",
    "data.head()"
   ]
  },
  {
   "cell_type": "markdown",
   "id": "c5713592",
   "metadata": {},
   "source": [
    "<hr style=\"border: 1px solid black;\">\n"
   ]
  },
  {
   "cell_type": "markdown",
   "id": "4535f0dc",
   "metadata": {},
   "source": [
    "### Data Exploration"
   ]
  },
  {
   "cell_type": "code",
   "execution_count": 2,
   "id": "ec7aa9cb",
   "metadata": {},
   "outputs": [
    {
     "name": "stdout",
     "output_type": "stream",
     "text": [
      "<class 'pandas.core.frame.DataFrame'>\n",
      "RangeIndex: 13320 entries, 0 to 13319\n",
      "Data columns (total 9 columns):\n",
      " #   Column        Non-Null Count  Dtype  \n",
      "---  ------        --------------  -----  \n",
      " 0   area_type     13320 non-null  object \n",
      " 1   availability  13320 non-null  object \n",
      " 2   location      13319 non-null  object \n",
      " 3   size          13304 non-null  object \n",
      " 4   society       7818 non-null   object \n",
      " 5   total_sqft    13320 non-null  object \n",
      " 6   bath          13247 non-null  float64\n",
      " 7   balcony       12711 non-null  float64\n",
      " 8   price         13320 non-null  float64\n",
      "dtypes: float64(3), object(6)\n",
      "memory usage: 936.7+ KB\n"
     ]
    }
   ],
   "source": [
    "data.info()"
   ]
  },
  {
   "cell_type": "code",
   "execution_count": 3,
   "id": "28f18c87",
   "metadata": {},
   "outputs": [
    {
     "data": {
      "text/html": [
       "<div>\n",
       "<style scoped>\n",
       "    .dataframe tbody tr th:only-of-type {\n",
       "        vertical-align: middle;\n",
       "    }\n",
       "\n",
       "    .dataframe tbody tr th {\n",
       "        vertical-align: top;\n",
       "    }\n",
       "\n",
       "    .dataframe thead th {\n",
       "        text-align: right;\n",
       "    }\n",
       "</style>\n",
       "<table border=\"1\" class=\"dataframe\">\n",
       "  <thead>\n",
       "    <tr style=\"text-align: right;\">\n",
       "      <th></th>\n",
       "      <th>bath</th>\n",
       "      <th>balcony</th>\n",
       "      <th>price</th>\n",
       "    </tr>\n",
       "  </thead>\n",
       "  <tbody>\n",
       "    <tr>\n",
       "      <th>count</th>\n",
       "      <td>13247.000000</td>\n",
       "      <td>12711.000000</td>\n",
       "      <td>13320.000000</td>\n",
       "    </tr>\n",
       "    <tr>\n",
       "      <th>mean</th>\n",
       "      <td>2.692610</td>\n",
       "      <td>1.584376</td>\n",
       "      <td>112.565627</td>\n",
       "    </tr>\n",
       "    <tr>\n",
       "      <th>std</th>\n",
       "      <td>1.341458</td>\n",
       "      <td>0.817263</td>\n",
       "      <td>148.971674</td>\n",
       "    </tr>\n",
       "    <tr>\n",
       "      <th>min</th>\n",
       "      <td>1.000000</td>\n",
       "      <td>0.000000</td>\n",
       "      <td>8.000000</td>\n",
       "    </tr>\n",
       "    <tr>\n",
       "      <th>25%</th>\n",
       "      <td>2.000000</td>\n",
       "      <td>1.000000</td>\n",
       "      <td>50.000000</td>\n",
       "    </tr>\n",
       "    <tr>\n",
       "      <th>50%</th>\n",
       "      <td>2.000000</td>\n",
       "      <td>2.000000</td>\n",
       "      <td>72.000000</td>\n",
       "    </tr>\n",
       "    <tr>\n",
       "      <th>75%</th>\n",
       "      <td>3.000000</td>\n",
       "      <td>2.000000</td>\n",
       "      <td>120.000000</td>\n",
       "    </tr>\n",
       "    <tr>\n",
       "      <th>max</th>\n",
       "      <td>40.000000</td>\n",
       "      <td>3.000000</td>\n",
       "      <td>3600.000000</td>\n",
       "    </tr>\n",
       "  </tbody>\n",
       "</table>\n",
       "</div>"
      ],
      "text/plain": [
       "               bath       balcony         price\n",
       "count  13247.000000  12711.000000  13320.000000\n",
       "mean       2.692610      1.584376    112.565627\n",
       "std        1.341458      0.817263    148.971674\n",
       "min        1.000000      0.000000      8.000000\n",
       "25%        2.000000      1.000000     50.000000\n",
       "50%        2.000000      2.000000     72.000000\n",
       "75%        3.000000      2.000000    120.000000\n",
       "max       40.000000      3.000000   3600.000000"
      ]
     },
     "execution_count": 3,
     "metadata": {},
     "output_type": "execute_result"
    }
   ],
   "source": [
    "data.describe()"
   ]
  },
  {
   "cell_type": "code",
   "execution_count": 4,
   "id": "189bff72",
   "metadata": {},
   "outputs": [
    {
     "data": {
      "text/plain": [
       "(13320, 9)"
      ]
     },
     "execution_count": 4,
     "metadata": {},
     "output_type": "execute_result"
    }
   ],
   "source": [
    "data.shape"
   ]
  },
  {
   "cell_type": "markdown",
   "id": "87a26251",
   "metadata": {},
   "source": [
    "**1.checking the null values**"
   ]
  },
  {
   "cell_type": "code",
   "execution_count": 5,
   "id": "a5210d62",
   "metadata": {},
   "outputs": [
    {
     "data": {
      "text/plain": [
       "area_type          0\n",
       "availability       0\n",
       "location           1\n",
       "size              16\n",
       "society         5502\n",
       "total_sqft         0\n",
       "bath              73\n",
       "balcony          609\n",
       "price              0\n",
       "dtype: int64"
      ]
     },
     "execution_count": 5,
     "metadata": {},
     "output_type": "execute_result"
    }
   ],
   "source": [
    "data.isnull().sum()"
   ]
  },
  {
   "cell_type": "markdown",
   "id": "20c99c67",
   "metadata": {},
   "source": [
    "**It shows that the dataframe contains the multiple null values**\n",
    "\n",
    " - The **Location** contains only one missing value\n",
    " - The **Size** ,**Society** ,**Bath**& **Balcony** contains the respective missing values"
   ]
  },
  {
   "cell_type": "markdown",
   "id": "54735b6c",
   "metadata": {},
   "source": [
    "**2.Dropping the unnecessary columns:**"
   ]
  },
  {
   "cell_type": "code",
   "execution_count": 6,
   "id": "c9061a62",
   "metadata": {},
   "outputs": [],
   "source": [
    "df=data.drop(['availability','society'],axis=1)"
   ]
  },
  {
   "cell_type": "code",
   "execution_count": 7,
   "id": "32924544",
   "metadata": {},
   "outputs": [
    {
     "data": {
      "text/html": [
       "<div>\n",
       "<style scoped>\n",
       "    .dataframe tbody tr th:only-of-type {\n",
       "        vertical-align: middle;\n",
       "    }\n",
       "\n",
       "    .dataframe tbody tr th {\n",
       "        vertical-align: top;\n",
       "    }\n",
       "\n",
       "    .dataframe thead th {\n",
       "        text-align: right;\n",
       "    }\n",
       "</style>\n",
       "<table border=\"1\" class=\"dataframe\">\n",
       "  <thead>\n",
       "    <tr style=\"text-align: right;\">\n",
       "      <th></th>\n",
       "      <th>area_type</th>\n",
       "      <th>location</th>\n",
       "      <th>size</th>\n",
       "      <th>total_sqft</th>\n",
       "      <th>bath</th>\n",
       "      <th>balcony</th>\n",
       "      <th>price</th>\n",
       "    </tr>\n",
       "  </thead>\n",
       "  <tbody>\n",
       "    <tr>\n",
       "      <th>0</th>\n",
       "      <td>Super built-up  Area</td>\n",
       "      <td>Electronic City Phase II</td>\n",
       "      <td>2 BHK</td>\n",
       "      <td>1056</td>\n",
       "      <td>2.0</td>\n",
       "      <td>1.0</td>\n",
       "      <td>39.07</td>\n",
       "    </tr>\n",
       "    <tr>\n",
       "      <th>1</th>\n",
       "      <td>Plot  Area</td>\n",
       "      <td>Chikka Tirupathi</td>\n",
       "      <td>4 Bedroom</td>\n",
       "      <td>2600</td>\n",
       "      <td>5.0</td>\n",
       "      <td>3.0</td>\n",
       "      <td>120.00</td>\n",
       "    </tr>\n",
       "    <tr>\n",
       "      <th>2</th>\n",
       "      <td>Built-up  Area</td>\n",
       "      <td>Uttarahalli</td>\n",
       "      <td>3 BHK</td>\n",
       "      <td>1440</td>\n",
       "      <td>2.0</td>\n",
       "      <td>3.0</td>\n",
       "      <td>62.00</td>\n",
       "    </tr>\n",
       "    <tr>\n",
       "      <th>3</th>\n",
       "      <td>Super built-up  Area</td>\n",
       "      <td>Lingadheeranahalli</td>\n",
       "      <td>3 BHK</td>\n",
       "      <td>1521</td>\n",
       "      <td>3.0</td>\n",
       "      <td>1.0</td>\n",
       "      <td>95.00</td>\n",
       "    </tr>\n",
       "    <tr>\n",
       "      <th>4</th>\n",
       "      <td>Super built-up  Area</td>\n",
       "      <td>Kothanur</td>\n",
       "      <td>2 BHK</td>\n",
       "      <td>1200</td>\n",
       "      <td>2.0</td>\n",
       "      <td>1.0</td>\n",
       "      <td>51.00</td>\n",
       "    </tr>\n",
       "  </tbody>\n",
       "</table>\n",
       "</div>"
      ],
      "text/plain": [
       "              area_type                  location       size total_sqft  bath  \\\n",
       "0  Super built-up  Area  Electronic City Phase II      2 BHK       1056   2.0   \n",
       "1            Plot  Area          Chikka Tirupathi  4 Bedroom       2600   5.0   \n",
       "2        Built-up  Area               Uttarahalli      3 BHK       1440   2.0   \n",
       "3  Super built-up  Area        Lingadheeranahalli      3 BHK       1521   3.0   \n",
       "4  Super built-up  Area                  Kothanur      2 BHK       1200   2.0   \n",
       "\n",
       "   balcony   price  \n",
       "0      1.0   39.07  \n",
       "1      3.0  120.00  \n",
       "2      3.0   62.00  \n",
       "3      1.0   95.00  \n",
       "4      1.0   51.00  "
      ]
     },
     "execution_count": 7,
     "metadata": {},
     "output_type": "execute_result"
    }
   ],
   "source": [
    "df.head()"
   ]
  },
  {
   "cell_type": "code",
   "execution_count": 8,
   "id": "54ef10b7",
   "metadata": {},
   "outputs": [
    {
     "data": {
      "text/plain": [
       "area_type       0\n",
       "location        1\n",
       "size           16\n",
       "total_sqft      0\n",
       "bath           73\n",
       "balcony       609\n",
       "price           0\n",
       "dtype: int64"
      ]
     },
     "execution_count": 8,
     "metadata": {},
     "output_type": "execute_result"
    }
   ],
   "source": [
    "df.isnull().sum()"
   ]
  },
  {
   "cell_type": "markdown",
   "id": "c0fb18c8",
   "metadata": {},
   "source": [
    "**3.Filling the missing values with '0':**"
   ]
  },
  {
   "cell_type": "code",
   "execution_count": 9,
   "id": "302fa286",
   "metadata": {},
   "outputs": [],
   "source": [
    "#filling the null valuess of  to 0\n",
    "df.fillna(0, inplace=True)"
   ]
  },
  {
   "cell_type": "markdown",
   "id": "b3a779ee",
   "metadata": {},
   "source": [
    "### Feature Enginnering:"
   ]
  },
  {
   "cell_type": "markdown",
   "id": "7c1fad35",
   "metadata": {},
   "source": [
    "<hr style=\"border: 1px solid black;\">\n"
   ]
  },
  {
   "cell_type": "markdown",
   "id": "1ffe4a45",
   "metadata": {},
   "source": [
    "**1.Counting the 'Location' columns there are some rows whose occurence is less,so we assign a string'other' to those\n",
    "values**"
   ]
  },
  {
   "cell_type": "code",
   "execution_count": 10,
   "id": "0a9c0aa4",
   "metadata": {},
   "outputs": [
    {
     "data": {
      "text/plain": [
       "1158"
      ]
     },
     "execution_count": 10,
     "metadata": {},
     "output_type": "execute_result"
    }
   ],
   "source": [
    "#counting the rows\n",
    "value_count=df['location'].value_counts()\n",
    "len(value_count[value_count<20])"
   ]
  },
  {
   "cell_type": "code",
   "execution_count": 11,
   "id": "d6f4d4a2",
   "metadata": {},
   "outputs": [],
   "source": [
    "#it shows that the  1158 rows values are less than 20,so we assign 'other ' to those values\n",
    "df['location']=df['location'].apply(lambda x:x if value_count[x]>20 else 'Other')"
   ]
  },
  {
   "cell_type": "markdown",
   "id": "c3f139d7",
   "metadata": {},
   "source": [
    "**2.The 'BHK' columns contains BHK values & Bedroom values so we extract those values in new columns 'bhk' & 'Bedroom**"
   ]
  },
  {
   "cell_type": "code",
   "execution_count": 12,
   "id": "2c0cca20",
   "metadata": {},
   "outputs": [],
   "source": [
    "# Split the values by 'BHK' and 'Bedroom'\n",
    "df['BHK'] = df['size'].str.extract(r'(\\d+) BHK', expand=False)\n",
    "df['Bedroom'] = df['size'].str.extract(r'(\\d+) Bedroom', expand=False)"
   ]
  },
  {
   "cell_type": "code",
   "execution_count": 13,
   "id": "4f47a7b0",
   "metadata": {},
   "outputs": [
    {
     "data": {
      "text/html": [
       "<div>\n",
       "<style scoped>\n",
       "    .dataframe tbody tr th:only-of-type {\n",
       "        vertical-align: middle;\n",
       "    }\n",
       "\n",
       "    .dataframe tbody tr th {\n",
       "        vertical-align: top;\n",
       "    }\n",
       "\n",
       "    .dataframe thead th {\n",
       "        text-align: right;\n",
       "    }\n",
       "</style>\n",
       "<table border=\"1\" class=\"dataframe\">\n",
       "  <thead>\n",
       "    <tr style=\"text-align: right;\">\n",
       "      <th></th>\n",
       "      <th>area_type</th>\n",
       "      <th>location</th>\n",
       "      <th>size</th>\n",
       "      <th>total_sqft</th>\n",
       "      <th>bath</th>\n",
       "      <th>balcony</th>\n",
       "      <th>price</th>\n",
       "      <th>BHK</th>\n",
       "      <th>Bedroom</th>\n",
       "    </tr>\n",
       "  </thead>\n",
       "  <tbody>\n",
       "    <tr>\n",
       "      <th>0</th>\n",
       "      <td>Super built-up  Area</td>\n",
       "      <td>Electronic City Phase II</td>\n",
       "      <td>2 BHK</td>\n",
       "      <td>1056</td>\n",
       "      <td>2.0</td>\n",
       "      <td>1.0</td>\n",
       "      <td>39.07</td>\n",
       "      <td>2</td>\n",
       "      <td>NaN</td>\n",
       "    </tr>\n",
       "    <tr>\n",
       "      <th>1</th>\n",
       "      <td>Plot  Area</td>\n",
       "      <td>Other</td>\n",
       "      <td>4 Bedroom</td>\n",
       "      <td>2600</td>\n",
       "      <td>5.0</td>\n",
       "      <td>3.0</td>\n",
       "      <td>120.00</td>\n",
       "      <td>NaN</td>\n",
       "      <td>4</td>\n",
       "    </tr>\n",
       "    <tr>\n",
       "      <th>2</th>\n",
       "      <td>Built-up  Area</td>\n",
       "      <td>Uttarahalli</td>\n",
       "      <td>3 BHK</td>\n",
       "      <td>1440</td>\n",
       "      <td>2.0</td>\n",
       "      <td>3.0</td>\n",
       "      <td>62.00</td>\n",
       "      <td>3</td>\n",
       "      <td>NaN</td>\n",
       "    </tr>\n",
       "    <tr>\n",
       "      <th>3</th>\n",
       "      <td>Super built-up  Area</td>\n",
       "      <td>Lingadheeranahalli</td>\n",
       "      <td>3 BHK</td>\n",
       "      <td>1521</td>\n",
       "      <td>3.0</td>\n",
       "      <td>1.0</td>\n",
       "      <td>95.00</td>\n",
       "      <td>3</td>\n",
       "      <td>NaN</td>\n",
       "    </tr>\n",
       "    <tr>\n",
       "      <th>4</th>\n",
       "      <td>Super built-up  Area</td>\n",
       "      <td>Kothanur</td>\n",
       "      <td>2 BHK</td>\n",
       "      <td>1200</td>\n",
       "      <td>2.0</td>\n",
       "      <td>1.0</td>\n",
       "      <td>51.00</td>\n",
       "      <td>2</td>\n",
       "      <td>NaN</td>\n",
       "    </tr>\n",
       "  </tbody>\n",
       "</table>\n",
       "</div>"
      ],
      "text/plain": [
       "              area_type                  location       size total_sqft  bath  \\\n",
       "0  Super built-up  Area  Electronic City Phase II      2 BHK       1056   2.0   \n",
       "1            Plot  Area                     Other  4 Bedroom       2600   5.0   \n",
       "2        Built-up  Area               Uttarahalli      3 BHK       1440   2.0   \n",
       "3  Super built-up  Area        Lingadheeranahalli      3 BHK       1521   3.0   \n",
       "4  Super built-up  Area                  Kothanur      2 BHK       1200   2.0   \n",
       "\n",
       "   balcony   price  BHK Bedroom  \n",
       "0      1.0   39.07    2     NaN  \n",
       "1      3.0  120.00  NaN       4  \n",
       "2      3.0   62.00    3     NaN  \n",
       "3      1.0   95.00    3     NaN  \n",
       "4      1.0   51.00    2     NaN  "
      ]
     },
     "execution_count": 13,
     "metadata": {},
     "output_type": "execute_result"
    }
   ],
   "source": [
    "df.head()"
   ]
  },
  {
   "cell_type": "code",
   "execution_count": 14,
   "id": "42304629",
   "metadata": {},
   "outputs": [],
   "source": [
    "df2=df.copy()"
   ]
  },
  {
   "cell_type": "code",
   "execution_count": 15,
   "id": "f9552f28",
   "metadata": {},
   "outputs": [],
   "source": [
    "# now we can drop the column 'size'\n",
    "df2.drop('size',axis=1, inplace=True)"
   ]
  },
  {
   "cell_type": "code",
   "execution_count": 16,
   "id": "ce92765c",
   "metadata": {},
   "outputs": [
    {
     "data": {
      "text/plain": [
       "4     826\n",
       "3     547\n",
       "2     329\n",
       "5     297\n",
       "6     191\n",
       "1     105\n",
       "8      84\n",
       "7      83\n",
       "9      46\n",
       "10     12\n",
       "11      2\n",
       "43      1\n",
       "12      1\n",
       "18      1\n",
       "Name: Bedroom, dtype: int64"
      ]
     },
     "execution_count": 16,
     "metadata": {},
     "output_type": "execute_result"
    }
   ],
   "source": [
    "df2['Bedroom'].value_counts()"
   ]
  },
  {
   "cell_type": "code",
   "execution_count": 17,
   "id": "65809305",
   "metadata": {},
   "outputs": [],
   "source": [
    "#there are so rows whose occurence is less so we drop those columns\n",
    "mask=df2['Bedroom'].value_counts()<12\n",
    "to_drop = mask[mask].index.tolist()\n",
    "df3 = df2[~df2['Bedroom'].isin(to_drop)]"
   ]
  },
  {
   "cell_type": "code",
   "execution_count": 18,
   "id": "b7bdab0b",
   "metadata": {},
   "outputs": [
    {
     "data": {
      "text/plain": [
       "4     826\n",
       "3     547\n",
       "2     329\n",
       "5     297\n",
       "6     191\n",
       "1     105\n",
       "8      84\n",
       "7      83\n",
       "9      46\n",
       "10     12\n",
       "Name: Bedroom, dtype: int64"
      ]
     },
     "execution_count": 18,
     "metadata": {},
     "output_type": "execute_result"
    }
   ],
   "source": [
    "df3['Bedroom'].value_counts()"
   ]
  },
  {
   "cell_type": "code",
   "execution_count": 19,
   "id": "3995f06a",
   "metadata": {},
   "outputs": [
    {
     "data": {
      "text/plain": [
       "area_type         0\n",
       "location          0\n",
       "total_sqft        0\n",
       "bath              0\n",
       "balcony           0\n",
       "price             0\n",
       "BHK            2549\n",
       "Bedroom       10795\n",
       "dtype: int64"
      ]
     },
     "execution_count": 19,
     "metadata": {},
     "output_type": "execute_result"
    }
   ],
   "source": [
    "df3.isna().sum()"
   ]
  },
  {
   "cell_type": "code",
   "execution_count": 20,
   "id": "e013d6bf",
   "metadata": {},
   "outputs": [],
   "source": [
    "df3=df3.fillna(0)"
   ]
  },
  {
   "cell_type": "code",
   "execution_count": 21,
   "id": "b1c33f76",
   "metadata": {},
   "outputs": [
    {
     "data": {
      "text/plain": [
       "1200           840\n",
       "1100           221\n",
       "1500           205\n",
       "2400           195\n",
       "600            180\n",
       "              ... \n",
       "2466 - 2856      1\n",
       "3580             1\n",
       "2461             1\n",
       "1437             1\n",
       "4689             1\n",
       "Name: total_sqft, Length: 2116, dtype: int64"
      ]
     },
     "execution_count": 21,
     "metadata": {},
     "output_type": "execute_result"
    }
   ],
   "source": [
    "df3['total_sqft'].value_counts()"
   ]
  },
  {
   "cell_type": "code",
   "execution_count": 22,
   "id": "95d1e95b",
   "metadata": {},
   "outputs": [
    {
     "data": {
      "text/plain": [
       "201"
      ]
     },
     "execution_count": 22,
     "metadata": {},
     "output_type": "execute_result"
    }
   ],
   "source": [
    "# its clear that the columns contains range like values \n",
    "len(df3[df3['total_sqft'].str.contains(\"-\")])"
   ]
  },
  {
   "cell_type": "code",
   "execution_count": 23,
   "id": "b0c4c8e9",
   "metadata": {},
   "outputs": [],
   "source": [
    "#there are 201 range rows so we drop them all\n",
    "df4 = df3[~df3['total_sqft'].str.contains('-')]"
   ]
  },
  {
   "cell_type": "code",
   "execution_count": 24,
   "id": "26dbe238",
   "metadata": {},
   "outputs": [
    {
     "data": {
      "text/plain": [
       "1200       840\n",
       "1100       221\n",
       "1500       205\n",
       "2400       195\n",
       "600        180\n",
       "          ... \n",
       "1113.12      1\n",
       "1544         1\n",
       "621          1\n",
       "981          1\n",
       "4689         1\n",
       "Name: total_sqft, Length: 1939, dtype: int64"
      ]
     },
     "execution_count": 24,
     "metadata": {},
     "output_type": "execute_result"
    }
   ],
   "source": [
    "df4['total_sqft'].value_counts()"
   ]
  },
  {
   "cell_type": "code",
   "execution_count": 25,
   "id": "89c84695",
   "metadata": {},
   "outputs": [],
   "source": [
    "#in also 'total_sqft 'columns there are values whose occurence is less \n",
    "value_counts = df['total_sqft'].value_counts()\n",
    "to_drop = value_counts[value_counts <2].index\n",
    "df5 = df4[~df4['total_sqft'].isin(to_drop)]"
   ]
  },
  {
   "cell_type": "code",
   "execution_count": 26,
   "id": "d94154bb",
   "metadata": {},
   "outputs": [
    {
     "name": "stdout",
     "output_type": "stream",
     "text": [
      "<class 'pandas.core.frame.DataFrame'>\n",
      "Int64Index: 12360 entries, 0 to 13319\n",
      "Data columns (total 8 columns):\n",
      " #   Column      Non-Null Count  Dtype  \n",
      "---  ------      --------------  -----  \n",
      " 0   area_type   12360 non-null  object \n",
      " 1   location    12360 non-null  object \n",
      " 2   total_sqft  12360 non-null  object \n",
      " 3   bath        12360 non-null  float64\n",
      " 4   balcony     12360 non-null  float64\n",
      " 5   price       12360 non-null  float64\n",
      " 6   BHK         12360 non-null  object \n",
      " 7   Bedroom     12360 non-null  object \n",
      "dtypes: float64(3), object(5)\n",
      "memory usage: 869.1+ KB\n"
     ]
    }
   ],
   "source": [
    "df5.info()"
   ]
  },
  {
   "cell_type": "code",
   "execution_count": 27,
   "id": "451f1fde",
   "metadata": {},
   "outputs": [],
   "source": [
    "df_copy=df5.copy()"
   ]
  },
  {
   "cell_type": "code",
   "execution_count": 28,
   "id": "422e9ba9",
   "metadata": {},
   "outputs": [],
   "source": [
    "# changinng the dtype of BHK and  Bedroom to int64\n",
    "df_copy['BHK'] =df_copy['BHK'].astype('int64')\n",
    "df_copy['Bedroom'] =df_copy['Bedroom'].astype('int64')"
   ]
  },
  {
   "cell_type": "code",
   "execution_count": 29,
   "id": "640580b0",
   "metadata": {},
   "outputs": [
    {
     "data": {
      "text/plain": [
       "area_type     0\n",
       "location      0\n",
       "total_sqft    0\n",
       "bath          0\n",
       "balcony       0\n",
       "price         0\n",
       "BHK           0\n",
       "Bedroom       0\n",
       "dtype: int64"
      ]
     },
     "execution_count": 29,
     "metadata": {},
     "output_type": "execute_result"
    }
   ],
   "source": [
    "df_copy.isna().sum()"
   ]
  },
  {
   "cell_type": "code",
   "execution_count": 30,
   "id": "23b5a8db",
   "metadata": {},
   "outputs": [],
   "source": [
    "# the data type of 'total_sqft ' need to be in integer or float but it is in the form of object \n",
    "df_copy['total_sqft'] = pd.to_numeric(df_copy['total_sqft'], errors='coerce')\n",
    "#here error='coerce' returns the nan for those abnormal form of data / other than numeric"
   ]
  },
  {
   "cell_type": "code",
   "execution_count": 31,
   "id": "43f62458",
   "metadata": {},
   "outputs": [
    {
     "data": {
      "text/plain": [
       "area_type     False\n",
       "location      False\n",
       "total_sqft     True\n",
       "bath          False\n",
       "balcony       False\n",
       "price         False\n",
       "BHK           False\n",
       "Bedroom       False\n",
       "dtype: bool"
      ]
     },
     "execution_count": 31,
     "metadata": {},
     "output_type": "execute_result"
    }
   ],
   "source": [
    "#it contains null values\n",
    "df_copy.isna().any()"
   ]
  },
  {
   "cell_type": "code",
   "execution_count": 32,
   "id": "07e19eb9",
   "metadata": {},
   "outputs": [],
   "source": [
    "df_copy.fillna(0, inplace=True)"
   ]
  },
  {
   "cell_type": "code",
   "execution_count": 33,
   "id": "ef1a9164",
   "metadata": {},
   "outputs": [
    {
     "data": {
      "text/html": [
       "<div>\n",
       "<style scoped>\n",
       "    .dataframe tbody tr th:only-of-type {\n",
       "        vertical-align: middle;\n",
       "    }\n",
       "\n",
       "    .dataframe tbody tr th {\n",
       "        vertical-align: top;\n",
       "    }\n",
       "\n",
       "    .dataframe thead th {\n",
       "        text-align: right;\n",
       "    }\n",
       "</style>\n",
       "<table border=\"1\" class=\"dataframe\">\n",
       "  <thead>\n",
       "    <tr style=\"text-align: right;\">\n",
       "      <th></th>\n",
       "      <th>area_type</th>\n",
       "      <th>location</th>\n",
       "      <th>total_sqft</th>\n",
       "      <th>bath</th>\n",
       "      <th>balcony</th>\n",
       "      <th>price</th>\n",
       "      <th>BHK</th>\n",
       "      <th>Bedroom</th>\n",
       "    </tr>\n",
       "  </thead>\n",
       "  <tbody>\n",
       "    <tr>\n",
       "      <th>0</th>\n",
       "      <td>Super built-up  Area</td>\n",
       "      <td>Electronic City Phase II</td>\n",
       "      <td>1056.0</td>\n",
       "      <td>2.0</td>\n",
       "      <td>1.0</td>\n",
       "      <td>39.07</td>\n",
       "      <td>2</td>\n",
       "      <td>0</td>\n",
       "    </tr>\n",
       "    <tr>\n",
       "      <th>1</th>\n",
       "      <td>Plot  Area</td>\n",
       "      <td>Other</td>\n",
       "      <td>2600.0</td>\n",
       "      <td>5.0</td>\n",
       "      <td>3.0</td>\n",
       "      <td>120.00</td>\n",
       "      <td>0</td>\n",
       "      <td>4</td>\n",
       "    </tr>\n",
       "    <tr>\n",
       "      <th>2</th>\n",
       "      <td>Built-up  Area</td>\n",
       "      <td>Uttarahalli</td>\n",
       "      <td>1440.0</td>\n",
       "      <td>2.0</td>\n",
       "      <td>3.0</td>\n",
       "      <td>62.00</td>\n",
       "      <td>3</td>\n",
       "      <td>0</td>\n",
       "    </tr>\n",
       "    <tr>\n",
       "      <th>3</th>\n",
       "      <td>Super built-up  Area</td>\n",
       "      <td>Lingadheeranahalli</td>\n",
       "      <td>1521.0</td>\n",
       "      <td>3.0</td>\n",
       "      <td>1.0</td>\n",
       "      <td>95.00</td>\n",
       "      <td>3</td>\n",
       "      <td>0</td>\n",
       "    </tr>\n",
       "    <tr>\n",
       "      <th>4</th>\n",
       "      <td>Super built-up  Area</td>\n",
       "      <td>Kothanur</td>\n",
       "      <td>1200.0</td>\n",
       "      <td>2.0</td>\n",
       "      <td>1.0</td>\n",
       "      <td>51.00</td>\n",
       "      <td>2</td>\n",
       "      <td>0</td>\n",
       "    </tr>\n",
       "  </tbody>\n",
       "</table>\n",
       "</div>"
      ],
      "text/plain": [
       "              area_type                  location  total_sqft  bath  balcony  \\\n",
       "0  Super built-up  Area  Electronic City Phase II      1056.0   2.0      1.0   \n",
       "1            Plot  Area                     Other      2600.0   5.0      3.0   \n",
       "2        Built-up  Area               Uttarahalli      1440.0   2.0      3.0   \n",
       "3  Super built-up  Area        Lingadheeranahalli      1521.0   3.0      1.0   \n",
       "4  Super built-up  Area                  Kothanur      1200.0   2.0      1.0   \n",
       "\n",
       "    price  BHK  Bedroom  \n",
       "0   39.07    2        0  \n",
       "1  120.00    0        4  \n",
       "2   62.00    3        0  \n",
       "3   95.00    3        0  \n",
       "4   51.00    2        0  "
      ]
     },
     "execution_count": 33,
     "metadata": {},
     "output_type": "execute_result"
    }
   ],
   "source": [
    "df_copy.head()"
   ]
  },
  {
   "cell_type": "markdown",
   "id": "23f52c33",
   "metadata": {},
   "source": [
    "#### I am not setisfied with the data , that's why it contains too many outliers, to remove such kind of noise in data i have done a little bit research in India real state website\n",
    "\n",
    "**--------------------------------------------------------------------------------------------------------------**\n",
    "\n",
    "**According to the indian real state**\n",
    "- 1BHK ---->450-600(sqft)\n",
    "- 2BHK ---->650-800\n",
    "- 3BHK ---->900-1100\n",
    "- 4BHK ---->1300-1700\n",
    "\n",
    "**I need to check weather the total_sqft values are valid for the given number of 'bhk','bedroom','balcony' etc**"
   ]
  },
  {
   "cell_type": "code",
   "execution_count": 34,
   "id": "c6400ca6",
   "metadata": {},
   "outputs": [],
   "source": [
    "def get_area_bhk(bhk):\n",
    "    if bhk == 1:\n",
    "        return 450\n",
    "    elif bhk == 2:\n",
    "        return 650\n",
    "    elif bhk == 3:\n",
    "        return 900\n",
    "    elif bhk == 4:\n",
    "        return 1300\n",
    "    elif bhk >= 5:\n",
    "        return 1300 + (bhk-4)*500\n",
    "\n",
    "df_copy['area_bhk'] = df_copy['BHK'].apply(get_area_bhk)"
   ]
  },
  {
   "cell_type": "code",
   "execution_count": 35,
   "id": "a7fb8c90",
   "metadata": {},
   "outputs": [
    {
     "data": {
      "text/html": [
       "<div>\n",
       "<style scoped>\n",
       "    .dataframe tbody tr th:only-of-type {\n",
       "        vertical-align: middle;\n",
       "    }\n",
       "\n",
       "    .dataframe tbody tr th {\n",
       "        vertical-align: top;\n",
       "    }\n",
       "\n",
       "    .dataframe thead th {\n",
       "        text-align: right;\n",
       "    }\n",
       "</style>\n",
       "<table border=\"1\" class=\"dataframe\">\n",
       "  <thead>\n",
       "    <tr style=\"text-align: right;\">\n",
       "      <th></th>\n",
       "      <th>area_type</th>\n",
       "      <th>location</th>\n",
       "      <th>total_sqft</th>\n",
       "      <th>bath</th>\n",
       "      <th>balcony</th>\n",
       "      <th>price</th>\n",
       "      <th>BHK</th>\n",
       "      <th>Bedroom</th>\n",
       "      <th>area_bhk</th>\n",
       "    </tr>\n",
       "  </thead>\n",
       "  <tbody>\n",
       "    <tr>\n",
       "      <th>0</th>\n",
       "      <td>Super built-up  Area</td>\n",
       "      <td>Electronic City Phase II</td>\n",
       "      <td>1056.0</td>\n",
       "      <td>2.0</td>\n",
       "      <td>1.0</td>\n",
       "      <td>39.07</td>\n",
       "      <td>2</td>\n",
       "      <td>0</td>\n",
       "      <td>650.0</td>\n",
       "    </tr>\n",
       "    <tr>\n",
       "      <th>1</th>\n",
       "      <td>Plot  Area</td>\n",
       "      <td>Other</td>\n",
       "      <td>2600.0</td>\n",
       "      <td>5.0</td>\n",
       "      <td>3.0</td>\n",
       "      <td>120.00</td>\n",
       "      <td>0</td>\n",
       "      <td>4</td>\n",
       "      <td>NaN</td>\n",
       "    </tr>\n",
       "    <tr>\n",
       "      <th>2</th>\n",
       "      <td>Built-up  Area</td>\n",
       "      <td>Uttarahalli</td>\n",
       "      <td>1440.0</td>\n",
       "      <td>2.0</td>\n",
       "      <td>3.0</td>\n",
       "      <td>62.00</td>\n",
       "      <td>3</td>\n",
       "      <td>0</td>\n",
       "      <td>900.0</td>\n",
       "    </tr>\n",
       "    <tr>\n",
       "      <th>3</th>\n",
       "      <td>Super built-up  Area</td>\n",
       "      <td>Lingadheeranahalli</td>\n",
       "      <td>1521.0</td>\n",
       "      <td>3.0</td>\n",
       "      <td>1.0</td>\n",
       "      <td>95.00</td>\n",
       "      <td>3</td>\n",
       "      <td>0</td>\n",
       "      <td>900.0</td>\n",
       "    </tr>\n",
       "    <tr>\n",
       "      <th>4</th>\n",
       "      <td>Super built-up  Area</td>\n",
       "      <td>Kothanur</td>\n",
       "      <td>1200.0</td>\n",
       "      <td>2.0</td>\n",
       "      <td>1.0</td>\n",
       "      <td>51.00</td>\n",
       "      <td>2</td>\n",
       "      <td>0</td>\n",
       "      <td>650.0</td>\n",
       "    </tr>\n",
       "  </tbody>\n",
       "</table>\n",
       "</div>"
      ],
      "text/plain": [
       "              area_type                  location  total_sqft  bath  balcony  \\\n",
       "0  Super built-up  Area  Electronic City Phase II      1056.0   2.0      1.0   \n",
       "1            Plot  Area                     Other      2600.0   5.0      3.0   \n",
       "2        Built-up  Area               Uttarahalli      1440.0   2.0      3.0   \n",
       "3  Super built-up  Area        Lingadheeranahalli      1521.0   3.0      1.0   \n",
       "4  Super built-up  Area                  Kothanur      1200.0   2.0      1.0   \n",
       "\n",
       "    price  BHK  Bedroom  area_bhk  \n",
       "0   39.07    2        0     650.0  \n",
       "1  120.00    0        4       NaN  \n",
       "2   62.00    3        0     900.0  \n",
       "3   95.00    3        0     900.0  \n",
       "4   51.00    2        0     650.0  "
      ]
     },
     "execution_count": 35,
     "metadata": {},
     "output_type": "execute_result"
    }
   ],
   "source": [
    "df_copy.head()"
   ]
  },
  {
   "cell_type": "code",
   "execution_count": 36,
   "id": "4d8f972d",
   "metadata": {},
   "outputs": [],
   "source": [
    "df_copy.fillna(0, inplace=True)"
   ]
  },
  {
   "cell_type": "code",
   "execution_count": 37,
   "id": "ed16a7b9",
   "metadata": {},
   "outputs": [
    {
     "data": {
      "text/plain": [
       "26        660.0\n",
       "35        700.0\n",
       "45        600.0\n",
       "70        500.0\n",
       "78        460.0\n",
       "          ...  \n",
       "13198    1200.0\n",
       "13211     745.0\n",
       "13221    1178.0\n",
       "13273     510.0\n",
       "13305     500.0\n",
       "Name: total_sqft, Length: 548, dtype: float64"
      ]
     },
     "execution_count": 37,
     "metadata": {},
     "output_type": "execute_result"
    }
   ],
   "source": [
    "mask = df_copy['total_sqft'] < df_copy['bath']*48 + df_copy['Bedroom']*120 + df_copy['balcony']*15+ df_copy['area_bhk']\n",
    "df_copy[mask]['total_sqft']"
   ]
  },
  {
   "cell_type": "code",
   "execution_count": 38,
   "id": "5545e901",
   "metadata": {},
   "outputs": [
    {
     "data": {
      "text/plain": [
       "(11812, 9)"
      ]
     },
     "execution_count": 38,
     "metadata": {},
     "output_type": "execute_result"
    }
   ],
   "source": [
    "# there are 548 rows that contains the false values\n",
    "df_copy = df_copy[~mask]\n",
    "df_copy.shape"
   ]
  },
  {
   "cell_type": "code",
   "execution_count": 39,
   "id": "c10c2868",
   "metadata": {},
   "outputs": [],
   "source": [
    "df_final=df_copy.drop('area_bhk',axis=1)"
   ]
  },
  {
   "cell_type": "code",
   "execution_count": 40,
   "id": "b71ca82a",
   "metadata": {},
   "outputs": [
    {
     "data": {
      "text/html": [
       "<div>\n",
       "<style scoped>\n",
       "    .dataframe tbody tr th:only-of-type {\n",
       "        vertical-align: middle;\n",
       "    }\n",
       "\n",
       "    .dataframe tbody tr th {\n",
       "        vertical-align: top;\n",
       "    }\n",
       "\n",
       "    .dataframe thead th {\n",
       "        text-align: right;\n",
       "    }\n",
       "</style>\n",
       "<table border=\"1\" class=\"dataframe\">\n",
       "  <thead>\n",
       "    <tr style=\"text-align: right;\">\n",
       "      <th></th>\n",
       "      <th>area_type</th>\n",
       "      <th>location</th>\n",
       "      <th>total_sqft</th>\n",
       "      <th>bath</th>\n",
       "      <th>balcony</th>\n",
       "      <th>price</th>\n",
       "      <th>BHK</th>\n",
       "      <th>Bedroom</th>\n",
       "    </tr>\n",
       "  </thead>\n",
       "  <tbody>\n",
       "    <tr>\n",
       "      <th>0</th>\n",
       "      <td>Super built-up  Area</td>\n",
       "      <td>Electronic City Phase II</td>\n",
       "      <td>1056.0</td>\n",
       "      <td>2.0</td>\n",
       "      <td>1.0</td>\n",
       "      <td>39.07</td>\n",
       "      <td>2</td>\n",
       "      <td>0</td>\n",
       "    </tr>\n",
       "    <tr>\n",
       "      <th>1</th>\n",
       "      <td>Plot  Area</td>\n",
       "      <td>Other</td>\n",
       "      <td>2600.0</td>\n",
       "      <td>5.0</td>\n",
       "      <td>3.0</td>\n",
       "      <td>120.00</td>\n",
       "      <td>0</td>\n",
       "      <td>4</td>\n",
       "    </tr>\n",
       "    <tr>\n",
       "      <th>2</th>\n",
       "      <td>Built-up  Area</td>\n",
       "      <td>Uttarahalli</td>\n",
       "      <td>1440.0</td>\n",
       "      <td>2.0</td>\n",
       "      <td>3.0</td>\n",
       "      <td>62.00</td>\n",
       "      <td>3</td>\n",
       "      <td>0</td>\n",
       "    </tr>\n",
       "    <tr>\n",
       "      <th>3</th>\n",
       "      <td>Super built-up  Area</td>\n",
       "      <td>Lingadheeranahalli</td>\n",
       "      <td>1521.0</td>\n",
       "      <td>3.0</td>\n",
       "      <td>1.0</td>\n",
       "      <td>95.00</td>\n",
       "      <td>3</td>\n",
       "      <td>0</td>\n",
       "    </tr>\n",
       "    <tr>\n",
       "      <th>4</th>\n",
       "      <td>Super built-up  Area</td>\n",
       "      <td>Kothanur</td>\n",
       "      <td>1200.0</td>\n",
       "      <td>2.0</td>\n",
       "      <td>1.0</td>\n",
       "      <td>51.00</td>\n",
       "      <td>2</td>\n",
       "      <td>0</td>\n",
       "    </tr>\n",
       "  </tbody>\n",
       "</table>\n",
       "</div>"
      ],
      "text/plain": [
       "              area_type                  location  total_sqft  bath  balcony  \\\n",
       "0  Super built-up  Area  Electronic City Phase II      1056.0   2.0      1.0   \n",
       "1            Plot  Area                     Other      2600.0   5.0      3.0   \n",
       "2        Built-up  Area               Uttarahalli      1440.0   2.0      3.0   \n",
       "3  Super built-up  Area        Lingadheeranahalli      1521.0   3.0      1.0   \n",
       "4  Super built-up  Area                  Kothanur      1200.0   2.0      1.0   \n",
       "\n",
       "    price  BHK  Bedroom  \n",
       "0   39.07    2        0  \n",
       "1  120.00    0        4  \n",
       "2   62.00    3        0  \n",
       "3   95.00    3        0  \n",
       "4   51.00    2        0  "
      ]
     },
     "execution_count": 40,
     "metadata": {},
     "output_type": "execute_result"
    }
   ],
   "source": [
    "df_final.head()"
   ]
  },
  {
   "cell_type": "code",
   "execution_count": 41,
   "id": "afa208d3",
   "metadata": {},
   "outputs": [],
   "source": [
    "#adding new columns contains the values oer squre feet\n",
    "df_final['price_per_sqft']=df_final['price']*100000 /df_final['total_sqft']"
   ]
  },
  {
   "cell_type": "code",
   "execution_count": 42,
   "id": "c809872d",
   "metadata": {},
   "outputs": [],
   "source": [
    "loc_counts=df_final['location'].value_counts()\n",
    "less=loc_counts[loc_counts<50].index.to_list()\n",
    "df_final.loc[df_final['location'].isin(less), 'location'] = 'other'\n"
   ]
  },
  {
   "cell_type": "code",
   "execution_count": 43,
   "id": "fdd1e46b",
   "metadata": {},
   "outputs": [
    {
     "data": {
      "text/html": [
       "<div>\n",
       "<style scoped>\n",
       "    .dataframe tbody tr th:only-of-type {\n",
       "        vertical-align: middle;\n",
       "    }\n",
       "\n",
       "    .dataframe tbody tr th {\n",
       "        vertical-align: top;\n",
       "    }\n",
       "\n",
       "    .dataframe thead th {\n",
       "        text-align: right;\n",
       "    }\n",
       "</style>\n",
       "<table border=\"1\" class=\"dataframe\">\n",
       "  <thead>\n",
       "    <tr style=\"text-align: right;\">\n",
       "      <th></th>\n",
       "      <th>area_type</th>\n",
       "      <th>location</th>\n",
       "      <th>total_sqft</th>\n",
       "      <th>bath</th>\n",
       "      <th>balcony</th>\n",
       "      <th>price</th>\n",
       "      <th>BHK</th>\n",
       "      <th>Bedroom</th>\n",
       "      <th>price_per_sqft</th>\n",
       "    </tr>\n",
       "  </thead>\n",
       "  <tbody>\n",
       "    <tr>\n",
       "      <th>0</th>\n",
       "      <td>Super built-up  Area</td>\n",
       "      <td>Electronic City Phase II</td>\n",
       "      <td>1056.0</td>\n",
       "      <td>2.0</td>\n",
       "      <td>1.0</td>\n",
       "      <td>39.07</td>\n",
       "      <td>2</td>\n",
       "      <td>0</td>\n",
       "      <td>3699.810606</td>\n",
       "    </tr>\n",
       "    <tr>\n",
       "      <th>1</th>\n",
       "      <td>Plot  Area</td>\n",
       "      <td>Other</td>\n",
       "      <td>2600.0</td>\n",
       "      <td>5.0</td>\n",
       "      <td>3.0</td>\n",
       "      <td>120.00</td>\n",
       "      <td>0</td>\n",
       "      <td>4</td>\n",
       "      <td>4615.384615</td>\n",
       "    </tr>\n",
       "    <tr>\n",
       "      <th>2</th>\n",
       "      <td>Built-up  Area</td>\n",
       "      <td>Uttarahalli</td>\n",
       "      <td>1440.0</td>\n",
       "      <td>2.0</td>\n",
       "      <td>3.0</td>\n",
       "      <td>62.00</td>\n",
       "      <td>3</td>\n",
       "      <td>0</td>\n",
       "      <td>4305.555556</td>\n",
       "    </tr>\n",
       "    <tr>\n",
       "      <th>3</th>\n",
       "      <td>Super built-up  Area</td>\n",
       "      <td>other</td>\n",
       "      <td>1521.0</td>\n",
       "      <td>3.0</td>\n",
       "      <td>1.0</td>\n",
       "      <td>95.00</td>\n",
       "      <td>3</td>\n",
       "      <td>0</td>\n",
       "      <td>6245.890861</td>\n",
       "    </tr>\n",
       "    <tr>\n",
       "      <th>4</th>\n",
       "      <td>Super built-up  Area</td>\n",
       "      <td>Kothanur</td>\n",
       "      <td>1200.0</td>\n",
       "      <td>2.0</td>\n",
       "      <td>1.0</td>\n",
       "      <td>51.00</td>\n",
       "      <td>2</td>\n",
       "      <td>0</td>\n",
       "      <td>4250.000000</td>\n",
       "    </tr>\n",
       "  </tbody>\n",
       "</table>\n",
       "</div>"
      ],
      "text/plain": [
       "              area_type                  location  total_sqft  bath  balcony  \\\n",
       "0  Super built-up  Area  Electronic City Phase II      1056.0   2.0      1.0   \n",
       "1            Plot  Area                     Other      2600.0   5.0      3.0   \n",
       "2        Built-up  Area               Uttarahalli      1440.0   2.0      3.0   \n",
       "3  Super built-up  Area                     other      1521.0   3.0      1.0   \n",
       "4  Super built-up  Area                  Kothanur      1200.0   2.0      1.0   \n",
       "\n",
       "    price  BHK  Bedroom  price_per_sqft  \n",
       "0   39.07    2        0     3699.810606  \n",
       "1  120.00    0        4     4615.384615  \n",
       "2   62.00    3        0     4305.555556  \n",
       "3   95.00    3        0     6245.890861  \n",
       "4   51.00    2        0     4250.000000  "
      ]
     },
     "execution_count": 43,
     "metadata": {},
     "output_type": "execute_result"
    }
   ],
   "source": [
    "df_final.head()"
   ]
  },
  {
   "cell_type": "code",
   "execution_count": 44,
   "id": "d4bd4e98",
   "metadata": {},
   "outputs": [],
   "source": [
    "df_final.drop(['area_type'],axis=1,inplace=True)"
   ]
  },
  {
   "cell_type": "markdown",
   "id": "6bf98f8c",
   "metadata": {},
   "source": [
    "---"
   ]
  },
  {
   "cell_type": "markdown",
   "id": "32012e05",
   "metadata": {},
   "source": [
    "### Data Visualization :\n"
   ]
  },
  {
   "cell_type": "markdown",
   "id": "2df0a245",
   "metadata": {},
   "source": [
    "<hr style=\"border: 1px solid black;\">\n"
   ]
  },
  {
   "cell_type": "code",
   "execution_count": 45,
   "id": "a3b2ce40",
   "metadata": {},
   "outputs": [],
   "source": [
    "import matplotlib.pyplot as plt\n",
    "%matplotlib inline\n",
    "import seaborn as sns\n",
    "\n"
   ]
  },
  {
   "cell_type": "code",
   "execution_count": 46,
   "id": "5c91c6e7",
   "metadata": {},
   "outputs": [
    {
     "data": {
      "image/png": "[encoded data removed]",
      "text/plain": [
       "<Figure size 640x480 with 1 Axes>"
      ]
     },
     "metadata": {},
     "output_type": "display_data"
    }
   ],
   "source": [
    "plt.scatter(df_final['total_sqft'], df_final['price'])\n",
    "plt.xlabel('Total Square Feet')\n",
    "plt.ylabel('Price')\n",
    "plt.title('Relationship between Total Square Feet and Price')\n",
    "plt.show()"
   ]
  },
  {
   "cell_type": "code",
   "execution_count": 47,
   "id": "9ca2b846",
   "metadata": {},
   "outputs": [
    {
     "data": {
      "image/png": "[encoded data removed]",
      "text/plain": [
       "<Figure size 2000x800 with 5 Axes>"
      ]
     },
     "metadata": {},
     "output_type": "display_data"
    }
   ],
   "source": [
    "columns=[ 'total_sqft', 'bath', 'price', 'BHK', 'Bedroom']\n",
    "plt.figure(figsize=(20, 8))\n",
    "for i, col in enumerate(columns):\n",
    "    plt.subplot(2, 4, i+1)\n",
    "    sns.boxplot(df_final[col])\n",
    "    plt.title(col)\n",
    "\n",
    "plt.tight_layout()\n",
    "plt.show()"
   ]
  },
  {
   "cell_type": "code",
   "execution_count": 48,
   "id": "c181ca2c",
   "metadata": {},
   "outputs": [
    {
     "data": {
      "text/plain": [
       "(11812, 8)"
      ]
     },
     "execution_count": 48,
     "metadata": {},
     "output_type": "execute_result"
    }
   ],
   "source": [
    "#datasets contains outliers\n",
    "df_final.shape"
   ]
  },
  {
   "cell_type": "markdown",
   "id": "e714a7f0",
   "metadata": {},
   "source": [
    "### outlier detection and remove:"
   ]
  },
  {
   "cell_type": "markdown",
   "id": "a7a2b06a",
   "metadata": {},
   "source": [
    "<hr style=\"border: 1px solid black;\">\n"
   ]
  },
  {
   "cell_type": "code",
   "execution_count": 49,
   "id": "feaa6e89",
   "metadata": {},
   "outputs": [],
   "source": [
    "import numpy as np\n",
    "def remove_pps_outliers(df):\n",
    "    df_out=pd.DataFrame()\n",
    "    for key,subdf in df.groupby('location'):\n",
    "        m=np.mean(subdf.total_sqft)\n",
    "        st=np.std(subdf.total_sqft)   \n",
    "        reduced_df=subdf[(subdf.total_sqft>(m-st)) & (subdf.total_sqft<=(m+st))]\n",
    "        df_out=pd.concat([df_out,reduced_df],ignore_index=True)\n",
    "    return df_out"
   ]
  },
  {
   "cell_type": "code",
   "execution_count": 50,
   "id": "5f8aee36",
   "metadata": {},
   "outputs": [
    {
     "data": {
      "text/html": [
       "<div>\n",
       "<style scoped>\n",
       "    .dataframe tbody tr th:only-of-type {\n",
       "        vertical-align: middle;\n",
       "    }\n",
       "\n",
       "    .dataframe tbody tr th {\n",
       "        vertical-align: top;\n",
       "    }\n",
       "\n",
       "    .dataframe thead th {\n",
       "        text-align: right;\n",
       "    }\n",
       "</style>\n",
       "<table border=\"1\" class=\"dataframe\">\n",
       "  <thead>\n",
       "    <tr style=\"text-align: right;\">\n",
       "      <th></th>\n",
       "      <th>location</th>\n",
       "      <th>total_sqft</th>\n",
       "      <th>bath</th>\n",
       "      <th>balcony</th>\n",
       "      <th>price</th>\n",
       "      <th>BHK</th>\n",
       "      <th>Bedroom</th>\n",
       "      <th>price_per_sqft</th>\n",
       "    </tr>\n",
       "  </thead>\n",
       "  <tbody>\n",
       "    <tr>\n",
       "      <th>0</th>\n",
       "      <td>7th Phase JP Nagar</td>\n",
       "      <td>1000.0</td>\n",
       "      <td>2.0</td>\n",
       "      <td>1.0</td>\n",
       "      <td>38.0</td>\n",
       "      <td>2</td>\n",
       "      <td>0</td>\n",
       "      <td>3800.000000</td>\n",
       "    </tr>\n",
       "    <tr>\n",
       "      <th>1</th>\n",
       "      <td>7th Phase JP Nagar</td>\n",
       "      <td>1080.0</td>\n",
       "      <td>2.0</td>\n",
       "      <td>2.0</td>\n",
       "      <td>72.0</td>\n",
       "      <td>2</td>\n",
       "      <td>0</td>\n",
       "      <td>6666.666667</td>\n",
       "    </tr>\n",
       "    <tr>\n",
       "      <th>2</th>\n",
       "      <td>7th Phase JP Nagar</td>\n",
       "      <td>1270.0</td>\n",
       "      <td>2.0</td>\n",
       "      <td>2.0</td>\n",
       "      <td>93.0</td>\n",
       "      <td>2</td>\n",
       "      <td>0</td>\n",
       "      <td>7322.834646</td>\n",
       "    </tr>\n",
       "    <tr>\n",
       "      <th>3</th>\n",
       "      <td>7th Phase JP Nagar</td>\n",
       "      <td>1420.0</td>\n",
       "      <td>2.0</td>\n",
       "      <td>1.0</td>\n",
       "      <td>100.0</td>\n",
       "      <td>3</td>\n",
       "      <td>0</td>\n",
       "      <td>7042.253521</td>\n",
       "    </tr>\n",
       "    <tr>\n",
       "      <th>4</th>\n",
       "      <td>7th Phase JP Nagar</td>\n",
       "      <td>1850.0</td>\n",
       "      <td>3.0</td>\n",
       "      <td>1.0</td>\n",
       "      <td>150.0</td>\n",
       "      <td>3</td>\n",
       "      <td>0</td>\n",
       "      <td>8108.108108</td>\n",
       "    </tr>\n",
       "    <tr>\n",
       "      <th>...</th>\n",
       "      <td>...</td>\n",
       "      <td>...</td>\n",
       "      <td>...</td>\n",
       "      <td>...</td>\n",
       "      <td>...</td>\n",
       "      <td>...</td>\n",
       "      <td>...</td>\n",
       "      <td>...</td>\n",
       "    </tr>\n",
       "    <tr>\n",
       "      <th>10202</th>\n",
       "      <td>other</td>\n",
       "      <td>1405.0</td>\n",
       "      <td>2.0</td>\n",
       "      <td>1.0</td>\n",
       "      <td>85.0</td>\n",
       "      <td>3</td>\n",
       "      <td>0</td>\n",
       "      <td>6049.822064</td>\n",
       "    </tr>\n",
       "    <tr>\n",
       "      <th>10203</th>\n",
       "      <td>other</td>\n",
       "      <td>1285.0</td>\n",
       "      <td>2.0</td>\n",
       "      <td>2.0</td>\n",
       "      <td>90.0</td>\n",
       "      <td>2</td>\n",
       "      <td>0</td>\n",
       "      <td>7003.891051</td>\n",
       "    </tr>\n",
       "    <tr>\n",
       "      <th>10204</th>\n",
       "      <td>other</td>\n",
       "      <td>1050.0</td>\n",
       "      <td>2.0</td>\n",
       "      <td>1.0</td>\n",
       "      <td>42.0</td>\n",
       "      <td>2</td>\n",
       "      <td>0</td>\n",
       "      <td>4000.000000</td>\n",
       "    </tr>\n",
       "    <tr>\n",
       "      <th>10205</th>\n",
       "      <td>other</td>\n",
       "      <td>1500.0</td>\n",
       "      <td>6.0</td>\n",
       "      <td>2.0</td>\n",
       "      <td>145.0</td>\n",
       "      <td>0</td>\n",
       "      <td>5</td>\n",
       "      <td>9666.666667</td>\n",
       "    </tr>\n",
       "    <tr>\n",
       "      <th>10206</th>\n",
       "      <td>other</td>\n",
       "      <td>1715.0</td>\n",
       "      <td>3.0</td>\n",
       "      <td>3.0</td>\n",
       "      <td>112.0</td>\n",
       "      <td>3</td>\n",
       "      <td>0</td>\n",
       "      <td>6530.612245</td>\n",
       "    </tr>\n",
       "  </tbody>\n",
       "</table>\n",
       "<p>10207 rows × 8 columns</p>\n",
       "</div>"
      ],
      "text/plain": [
       "                 location  total_sqft  bath  balcony  price  BHK  Bedroom  \\\n",
       "0      7th Phase JP Nagar      1000.0   2.0      1.0   38.0    2        0   \n",
       "1      7th Phase JP Nagar      1080.0   2.0      2.0   72.0    2        0   \n",
       "2      7th Phase JP Nagar      1270.0   2.0      2.0   93.0    2        0   \n",
       "3      7th Phase JP Nagar      1420.0   2.0      1.0  100.0    3        0   \n",
       "4      7th Phase JP Nagar      1850.0   3.0      1.0  150.0    3        0   \n",
       "...                   ...         ...   ...      ...    ...  ...      ...   \n",
       "10202               other      1405.0   2.0      1.0   85.0    3        0   \n",
       "10203               other      1285.0   2.0      2.0   90.0    2        0   \n",
       "10204               other      1050.0   2.0      1.0   42.0    2        0   \n",
       "10205               other      1500.0   6.0      2.0  145.0    0        5   \n",
       "10206               other      1715.0   3.0      3.0  112.0    3        0   \n",
       "\n",
       "       price_per_sqft  \n",
       "0         3800.000000  \n",
       "1         6666.666667  \n",
       "2         7322.834646  \n",
       "3         7042.253521  \n",
       "4         8108.108108  \n",
       "...               ...  \n",
       "10202     6049.822064  \n",
       "10203     7003.891051  \n",
       "10204     4000.000000  \n",
       "10205     9666.666667  \n",
       "10206     6530.612245  \n",
       "\n",
       "[10207 rows x 8 columns]"
      ]
     },
     "execution_count": 50,
     "metadata": {},
     "output_type": "execute_result"
    }
   ],
   "source": [
    "remove_pps_outliers(df_final)"
   ]
  },
  {
   "cell_type": "code",
   "execution_count": 51,
   "id": "4dd931db",
   "metadata": {},
   "outputs": [
    {
     "name": "stdout",
     "output_type": "stream",
     "text": [
      "(9722, 8)\n"
     ]
    }
   ],
   "source": [
    "# List of columns to check for outliers\n",
    "cols = [ 'bath', 'price', 'BHK', 'total_sqft','Bedroom']\n",
    "\n",
    "# Remove outliers using IQR method\n",
    "for col in cols:\n",
    "    Q1 = df_final[col].quantile(0.25)\n",
    "    Q3 = df_final[col].quantile(0.75)\n",
    "    IQR = Q3 - Q1\n",
    "    df_copy = df_final[(df_final[col] >= Q1 - 1.5*IQR) & (df_final[col] <= Q3 + 1.5*IQR)]\n",
    "\n",
    "# Check the result\n",
    "print(df_copy.shape) "
   ]
  },
  {
   "cell_type": "code",
   "execution_count": 52,
   "id": "d102520c",
   "metadata": {},
   "outputs": [
    {
     "data": {
      "image/png": "[encoded data removed]",
      "text/plain": [
       "<Figure size 2000x800 with 4 Axes>"
      ]
     },
     "metadata": {},
     "output_type": "display_data"
    }
   ],
   "source": [
    "columns=['total_sqft', 'bath', 'price', 'BHK']\n",
    "plt.figure(figsize=(20, 8))\n",
    "for i, col in enumerate(columns):\n",
    "    plt.subplot(2, 4, i+1)\n",
    "    sns.boxplot(df_final[col])\n",
    "    plt.title(col)\n",
    "\n",
    "plt.tight_layout()\n",
    "plt.show()"
   ]
  },
  {
   "cell_type": "code",
   "execution_count": 53,
   "id": "89db30ab",
   "metadata": {},
   "outputs": [],
   "source": [
    "import numpy as np\n",
    "\n",
    "# Define a function to calculate the z-score for a given column\n",
    "def zscore(col):\n",
    "    mean = col.mean()\n",
    "    std = col.std()\n",
    "    return (col - mean) / std\n",
    "\n",
    "# Calculate the z-score for each column\n",
    "z_scores = df_final[['total_sqft', 'bath', 'price', 'BHK', 'Bedroom', 'price_per_sqft']].apply(zscore)\n",
    "\n",
    "# Define a threshold for outliers (e.g. 3 standard deviations from the mean)\n",
    "threshold = 3\n",
    "\n",
    "# Identify the rows that contain outliers in any column\n",
    "mask = (np.abs(z_scores) > threshold).any(axis=1)\n",
    "\n",
    "# Remove the rows that contain outliers\n",
    "final_df = df_final[~mask].reset_index(drop=True)\n"
   ]
  },
  {
   "cell_type": "code",
   "execution_count": 54,
   "id": "3d4b0acb",
   "metadata": {},
   "outputs": [
    {
     "data": {
      "text/plain": [
       "(11066, 8)"
      ]
     },
     "execution_count": 54,
     "metadata": {},
     "output_type": "execute_result"
    }
   ],
   "source": [
    "final_df.shape"
   ]
  },
  {
   "cell_type": "code",
   "execution_count": 55,
   "id": "282b19f8",
   "metadata": {},
   "outputs": [],
   "source": [
    "import numpy as np\n",
    "\n",
    "Q1 = final_df['price_per_sqft'].quantile(0.25)\n",
    "Q3 = final_df['price_per_sqft'].quantile(0.75)\n",
    "IQR = Q3 - Q1\n",
    "lower_bound = Q1 - 1.5 * IQR\n",
    "upper_bound = Q3 + 1.5 * IQR\n",
    "\n",
    "# Identify the rows that contain outliers in the 'price_per_sqft' column\n",
    "mask = (final_df['price_per_sqft'] < lower_bound) | (final_df['price_per_sqft'] > upper_bound)\n",
    "\n",
    "# Remove the rows that contain outliers\n",
    "final_df = final_df[~mask].reset_index(drop=True)\n",
    "\n"
   ]
  },
  {
   "cell_type": "code",
   "execution_count": 56,
   "id": "a18f1b07",
   "metadata": {},
   "outputs": [],
   "source": [
    "Q1 = final_df['total_sqft'].quantile(0.25)\n",
    "Q3 = final_df['total_sqft'].quantile(0.75)\n",
    "IQR = Q3 - Q1\n",
    "lower_bound = Q1 - 1.5 * IQR\n",
    "upper_bound = Q3 + 1.5 * IQR\n",
    "\n",
    "# Identify the rows that contain outliers in the 'price_per_sqft' column\n",
    "mask = (final_df['total_sqft'] < lower_bound) | (final_df['total_sqft'] > upper_bound)\n",
    "\n",
    "# Remove the rows that contain outliers\n",
    "final_df = final_df[~mask].reset_index(drop=True)"
   ]
  },
  {
   "cell_type": "code",
   "execution_count": 57,
   "id": "caa4bd91",
   "metadata": {},
   "outputs": [],
   "source": [
    "Q1 = final_df['price'].quantile(0.25)\n",
    "Q3 = final_df['price'].quantile(0.75)\n",
    "IQR = Q3 - Q1\n",
    "lower_bound = Q1 - 1.5 * IQR\n",
    "upper_bound = Q3 + 1.5 * IQR\n",
    "\n",
    "# Identify the rows that contain outliers in the 'price_per_sqft' column\n",
    "mask = (final_df['price'] < lower_bound) | (final_df['price'] > upper_bound)\n",
    "\n",
    "# Remove the rows that contain outliers\n",
    "final_df = final_df[~mask].reset_index(drop=True)"
   ]
  },
  {
   "cell_type": "code",
   "execution_count": 58,
   "id": "569eea95",
   "metadata": {},
   "outputs": [
    {
     "data": {
      "text/plain": [
       "(9315, 8)"
      ]
     },
     "execution_count": 58,
     "metadata": {},
     "output_type": "execute_result"
    }
   ],
   "source": [
    "final_df.shape"
   ]
  },
  {
   "cell_type": "markdown",
   "id": "466bfe5c",
   "metadata": {},
   "source": [
    "#### Encoding:"
   ]
  },
  {
   "cell_type": "markdown",
   "id": "a7d90d52",
   "metadata": {},
   "source": [
    "<hr style=\"border: 1px solid black;\">\n"
   ]
  },
  {
   "cell_type": "code",
   "execution_count": 59,
   "id": "487bc37f",
   "metadata": {},
   "outputs": [],
   "source": [
    "dummies=pd.get_dummies(final_df['location'])"
   ]
  },
  {
   "cell_type": "code",
   "execution_count": 60,
   "id": "eabe243b",
   "metadata": {},
   "outputs": [],
   "source": [
    "df2 = pd.concat([final_df, dummies], axis=1)"
   ]
  },
  {
   "cell_type": "code",
   "execution_count": 61,
   "id": "2b7bc981",
   "metadata": {},
   "outputs": [
    {
     "data": {
      "text/plain": [
       "(9315, 54)"
      ]
     },
     "execution_count": 61,
     "metadata": {},
     "output_type": "execute_result"
    }
   ],
   "source": [
    "df2.shape"
   ]
  },
  {
   "cell_type": "code",
   "execution_count": 62,
   "id": "7f68ac23",
   "metadata": {},
   "outputs": [],
   "source": [
    "df2.drop(['location'],axis=1,inplace=True)"
   ]
  },
  {
   "cell_type": "markdown",
   "id": "ceb0d70f",
   "metadata": {},
   "source": [
    "### Modeling:"
   ]
  },
  {
   "cell_type": "markdown",
   "id": "8ce3ad76",
   "metadata": {},
   "source": [
    "<hr style=\"border: 1px solid black;\">\n"
   ]
  },
  {
   "cell_type": "code",
   "execution_count": 63,
   "id": "77b4998b",
   "metadata": {},
   "outputs": [],
   "source": [
    "from sklearn.model_selection import train_test_split\n",
    "from sklearn.linear_model import LinearRegression\n",
    "from sklearn.tree import DecisionTreeRegressor\n",
    "from sklearn.ensemble import RandomForestRegressor\n",
    "from sklearn.metrics import mean_absolute_error, mean_squared_error\n",
    "\n",
    "y=df2.price\n",
    "X=df2.drop(['price'],axis=1)\n",
    "\n",
    "x_train,x_valid,y_train,y_valid=train_test_split(X,y,train_size=0.8, random_state=0)\n",
    "\n",
    "\n",
    "LR=LinearRegression(fit_intercept=True, copy_X=True)\n",
    "DTR=DecisionTreeRegressor()\n",
    "RF=RandomForestRegressor(random_state=0)\n",
    "\n",
    "def m_fit(model):\n",
    "    features_names=X.columns\n",
    "    model.fit(x_train,y_train)\n",
    "    print(model.score(x_valid,y_valid))\n",
    "    y_train_pred = model.predict(x_train)\n",
    "    y_val_pred = model.predict(x_valid)\n",
    "    train_error = mean_squared_error(y_train, y_train_pred)\n",
    "    val_error = mean_squared_error(y_valid, y_val_pred)\n",
    "    print(\"train error is:\",train_error)\n",
    "    print(\"validation error is:\",val_error)\n",
    "    "
   ]
  },
  {
   "cell_type": "code",
   "execution_count": 64,
   "id": "0e2fd23a",
   "metadata": {},
   "outputs": [
    {
     "name": "stdout",
     "output_type": "stream",
     "text": [
      "0.9993810040041005\n",
      "train error is: 0.06409863436929684\n",
      "validation error is: 0.421675119602791\n"
     ]
    }
   ],
   "source": [
    "m_fit(RF)"
   ]
  },
  {
   "cell_type": "code",
   "execution_count": 65,
   "id": "13a03b04",
   "metadata": {},
   "outputs": [
    {
     "name": "stdout",
     "output_type": "stream",
     "text": [
      "0.97823549612192\n",
      "train error is: 17.90798309192691\n",
      "validation error is: 14.826509115860368\n"
     ]
    }
   ],
   "source": [
    "m_fit(LR)"
   ]
  },
  {
   "cell_type": "code",
   "execution_count": 66,
   "id": "8e11c12f",
   "metadata": {},
   "outputs": [
    {
     "name": "stdout",
     "output_type": "stream",
     "text": [
      "0.9977028847069058\n",
      "train error is: 2.032491865303734e-31\n",
      "validation error is: 1.5648507783145464\n"
     ]
    }
   ],
   "source": [
    "m_fit(DTR)"
   ]
  },
  {
   "cell_type": "markdown",
   "id": "faaf30f4",
   "metadata": {},
   "source": [
    "### Prediction:"
   ]
  },
  {
   "cell_type": "markdown",
   "id": "76c6a82f",
   "metadata": {},
   "source": [
    "<hr style=\"border: 1px solid black;\">\n"
   ]
  },
  {
   "cell_type": "code",
   "execution_count": 67,
   "id": "239767ae",
   "metadata": {},
   "outputs": [],
   "source": [
    "def predict_price(location,sqft):\n",
    "    loc_index=np.where(X.columns==location)[0][0]\n",
    "    x=np.zeros(len(X.columns))\n",
    "    x[0]=sqft\n",
    "    if loc_index >=0:\n",
    "        x[loc_index] = 1\n",
    "    return RF.predict([x])[0]"
   ]
  },
  {
   "cell_type": "code",
   "execution_count": 68,
   "id": "2ab1c6b6",
   "metadata": {},
   "outputs": [
    {
     "data": {
      "text/plain": [
       "17.933000000000003"
      ]
     },
     "execution_count": 68,
     "metadata": {},
     "output_type": "execute_result"
    }
   ],
   "source": [
    "predict_price('Uttarahalli',900)"
   ]
  },
  {
   "cell_type": "code",
   "execution_count": 69,
   "id": "f46c34fc",
   "metadata": {},
   "outputs": [
    {
     "data": {
      "text/plain": [
       "18.246800000000004"
      ]
     },
     "execution_count": 69,
     "metadata": {},
     "output_type": "execute_result"
    }
   ],
   "source": [
    "predict_price('Begur Road',1000)"
   ]
  },
  {
   "cell_type": "markdown",
   "id": "3e15df2c",
   "metadata": {},
   "source": [
    "#### Extracting to pickle: "
   ]
  },
  {
   "cell_type": "markdown",
   "id": "ab4a6995",
   "metadata": {},
   "source": [
    "<hr style=\"border: 1px solid black;\">"
   ]
  },
  {
   "cell_type": "code",
   "execution_count": 70,
   "id": "a6fdbdf2",
   "metadata": {},
   "outputs": [],
   "source": [
    "import pickle\n",
    "with open('Bengaluru_House_Price_Datasets_Model.pickle','wb') as f:\n",
    "    pickle.dump(RF,f)"
   ]
  },
  {
   "cell_type": "code",
   "execution_count": 71,
   "id": "f0c6ef6f",
   "metadata": {},
   "outputs": [],
   "source": [
    "import json\n",
    "columns={\n",
    "    'data_columns' : [col.lower() for col in X.columns]\n",
    "}\n",
    "with open(\"columns.json\",'w') as f:\n",
    "    f.write(json.dumps(columns))"
   ]
  },
  {
   "cell_type": "code",
   "execution_count": null,
   "id": "615d1c8d",
   "metadata": {},
   "outputs": [],
   "source": []
  }
 ],
 "metadata": {
  "kernelspec": {
   "display_name": "Python 3 (ipykernel)",
   "language": "python",
   "name": "python3"
  },
  "language_info": {
   "codemirror_mode": {
    "name": "ipython",
    "version": 3
   },
   "file_extension": ".py",
   "mimetype": "text/x-python",
   "name": "python",
   "nbconvert_exporter": "python",
   "pygments_lexer": "ipython3",
   "version": "3.9.13"
  }
 },
 "nbformat": 4,
 "nbformat_minor": 5
}
